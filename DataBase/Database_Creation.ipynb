{
 "cells": [
  {
   "cell_type": "code",
   "execution_count": 1,
   "id": "6460c122",
   "metadata": {},
   "outputs": [],
   "source": [
    "# pip install mysql-connector-python"
   ]
  },
  {
   "cell_type": "code",
   "execution_count": 2,
   "id": "4b8e4a63",
   "metadata": {},
   "outputs": [],
   "source": [
    "import pandas as pd\n",
    "import numpy as np\n",
    "\n",
    "import os\n",
    "\n",
    "import mysql.connector as msql\n",
    "from mysql.connector import Error\n",
    "import base64\n",
    "\n",
    "from PIL import Image\n",
    "import requests\n",
    "from io import BytesIO"
   ]
  },
  {
   "cell_type": "markdown",
   "id": "7bde01e0",
   "metadata": {},
   "source": [
    "## Reading Data"
   ]
  },
  {
   "cell_type": "code",
   "execution_count": 3,
   "id": "eed1fcd8",
   "metadata": {
    "run_control": {
     "marked": false
    }
   },
   "outputs": [],
   "source": [
    "url = \"https://raw.githubusercontent.com/leticiatavaresds/Trabalho_Final_BD_Spotify/main/Data/dados_spotify_cidades.csv\"\n",
    "df_Charts_Cities = pd.read_csv(url, index_col=False, delimiter = ',')\n",
    "df_Charts_Cities.rename(columns={\"Track_id\": \"Song_id\"}, inplace= True)\n",
    "df_Charts_Cities.rename(columns={\"City\": \"Chart\"}, inplace= True)\n",
    "\n",
    "df_Charts_Cities[\"ID_Chart\"] = df_Charts_Cities.Chart.str.lower().str.replace(\" \", \"_\").str.replace(\"local_pulse\", \"lp\")\n",
    "df_Charts_Cities[\"ID_Chart\"] = df_Charts_Cities.ID_Chart.str.normalize('NFKD').str.encode('ascii', errors='ignore').str.decode(\"utf-8\")\n",
    "\n",
    "df_Charts_Cities[\"Type\"]= np.where(df_Charts_Cities['Chart'].str.contains('Local Pulse'), \"Local Pulse\", \"Normal\")\n",
    "df_Charts_Cities[\"Cidade\"] = df_Charts_Cities.Chart.str.replace(\"Local Pulse\", \"\")\n",
    "\n",
    "url = \"https://raw.githubusercontent.com/leticiatavaresds/Trabalho_Final_BD_Spotify/main/Data/data_songs.csv\"\n",
    "df_Songs = pd.read_csv(url, index_col=False, delimiter = ',')\n",
    "\n",
    "url = \"https://raw.githubusercontent.com/leticiatavaresds/Trabalho_Final_BD_Spotify/main/Data/IBGE_cidades.csv\"\n",
    "df_Cities = pd.read_csv(url, index_col=False, delimiter = ',')\n",
    "\n",
    "df_Charts_Songs = pd.merge(df_Charts_Cities,df_Songs, on = 'Song_id')\n",
    "df_Charts_Songs = pd.merge(df_Charts_Songs,df_Cities[[\"Cidade\", \"Código_Cidade\"]], on = 'Cidade')"
   ]
  },
  {
   "cell_type": "markdown",
   "id": "17a0cf7d",
   "metadata": {},
   "source": [
    "## Creating Dataframes"
   ]
  },
  {
   "cell_type": "code",
   "execution_count": 4,
   "id": "f89f41fa",
   "metadata": {
    "run_control": {
     "marked": true
    }
   },
   "outputs": [
    {
     "data": {
      "text/html": [
       "<div>\n",
       "<style scoped>\n",
       "    .dataframe tbody tr th:only-of-type {\n",
       "        vertical-align: middle;\n",
       "    }\n",
       "\n",
       "    .dataframe tbody tr th {\n",
       "        vertical-align: top;\n",
       "    }\n",
       "\n",
       "    .dataframe thead th {\n",
       "        text-align: right;\n",
       "    }\n",
       "</style>\n",
       "<table border=\"1\" class=\"dataframe\">\n",
       "  <thead>\n",
       "    <tr style=\"text-align: right;\">\n",
       "      <th></th>\n",
       "      <th>ID</th>\n",
       "      <th>Código_Cidade</th>\n",
       "      <th>Tipo</th>\n",
       "    </tr>\n",
       "  </thead>\n",
       "  <tbody>\n",
       "    <tr>\n",
       "      <th>0</th>\n",
       "      <td>belo_horizonte</td>\n",
       "      <td>3106200</td>\n",
       "      <td>Normal</td>\n",
       "    </tr>\n",
       "    <tr>\n",
       "      <th>1</th>\n",
       "      <td>belem</td>\n",
       "      <td>1501402</td>\n",
       "      <td>Normal</td>\n",
       "    </tr>\n",
       "    <tr>\n",
       "      <th>2</th>\n",
       "      <td>campinas</td>\n",
       "      <td>3509502</td>\n",
       "      <td>Normal</td>\n",
       "    </tr>\n",
       "  </tbody>\n",
       "</table>\n",
       "</div>"
      ],
      "text/plain": [
       "               ID  Código_Cidade    Tipo\n",
       "0  belo_horizonte        3106200  Normal\n",
       "1           belem        1501402  Normal\n",
       "2        campinas        3509502  Normal"
      ]
     },
     "execution_count": 4,
     "metadata": {},
     "output_type": "execute_result"
    }
   ],
   "source": [
    "# Chart Table\n",
    "df_table_chart = df_Charts_Songs[['ID_Chart', 'Código_Cidade', 'Type']].drop_duplicates().reset_index(drop = True)\n",
    "df_table_chart.rename(columns={\"ID_Chart\": \"ID\",\n",
    "                               \"Type\": \"Tipo\"}, inplace= True)\n",
    "\n",
    "df_table_chart.head(3)"
   ]
  },
  {
   "cell_type": "code",
   "execution_count": 5,
   "id": "6cc1e351",
   "metadata": {},
   "outputs": [
    {
     "data": {
      "text/html": [
       "<div>\n",
       "<style scoped>\n",
       "    .dataframe tbody tr th:only-of-type {\n",
       "        vertical-align: middle;\n",
       "    }\n",
       "\n",
       "    .dataframe tbody tr th {\n",
       "        vertical-align: top;\n",
       "    }\n",
       "\n",
       "    .dataframe thead th {\n",
       "        text-align: right;\n",
       "    }\n",
       "</style>\n",
       "<table border=\"1\" class=\"dataframe\">\n",
       "  <thead>\n",
       "    <tr style=\"text-align: right;\">\n",
       "      <th></th>\n",
       "      <th>Código_Cidade</th>\n",
       "      <th>Cidade</th>\n",
       "      <th>Região</th>\n",
       "    </tr>\n",
       "  </thead>\n",
       "  <tbody>\n",
       "    <tr>\n",
       "      <th>0</th>\n",
       "      <td>1302603</td>\n",
       "      <td>Manaus</td>\n",
       "      <td>Norte</td>\n",
       "    </tr>\n",
       "    <tr>\n",
       "      <th>1</th>\n",
       "      <td>1501402</td>\n",
       "      <td>Belém</td>\n",
       "      <td>Norte</td>\n",
       "    </tr>\n",
       "    <tr>\n",
       "      <th>2</th>\n",
       "      <td>2304400</td>\n",
       "      <td>Fortaleza</td>\n",
       "      <td>Nordeste</td>\n",
       "    </tr>\n",
       "    <tr>\n",
       "      <th>3</th>\n",
       "      <td>2611606</td>\n",
       "      <td>Recife</td>\n",
       "      <td>Nordeste</td>\n",
       "    </tr>\n",
       "  </tbody>\n",
       "</table>\n",
       "</div>"
      ],
      "text/plain": [
       "   Código_Cidade     Cidade    Região\n",
       "0        1302603     Manaus     Norte\n",
       "1        1501402      Belém     Norte\n",
       "2        2304400  Fortaleza  Nordeste\n",
       "3        2611606     Recife  Nordeste"
      ]
     },
     "execution_count": 5,
     "metadata": {},
     "output_type": "execute_result"
    }
   ],
   "source": [
    "# Cities Table\n",
    "df_table_cities = df_Cities.copy()\n",
    "df_table_cities.head(4)"
   ]
  },
  {
   "cell_type": "code",
   "execution_count": 6,
   "id": "cc125b7e",
   "metadata": {
    "run_control": {
     "marked": true
    }
   },
   "outputs": [
    {
     "data": {
      "text/html": [
       "<div>\n",
       "<style scoped>\n",
       "    .dataframe tbody tr th:only-of-type {\n",
       "        vertical-align: middle;\n",
       "    }\n",
       "\n",
       "    .dataframe tbody tr th {\n",
       "        vertical-align: top;\n",
       "    }\n",
       "\n",
       "    .dataframe thead th {\n",
       "        text-align: right;\n",
       "    }\n",
       "</style>\n",
       "<table border=\"1\" class=\"dataframe\">\n",
       "  <thead>\n",
       "    <tr style=\"text-align: right;\">\n",
       "      <th></th>\n",
       "      <th>ID_Ranking</th>\n",
       "      <th>Data</th>\n",
       "      <th>ID_Musica</th>\n",
       "      <th>Posição</th>\n",
       "    </tr>\n",
       "  </thead>\n",
       "  <tbody>\n",
       "    <tr>\n",
       "      <th>0</th>\n",
       "      <td>belo_horizonte</td>\n",
       "      <td>2022-02-03</td>\n",
       "      <td>0NBgyml7T0IvUNbXIkcSpH</td>\n",
       "      <td>1.0</td>\n",
       "    </tr>\n",
       "    <tr>\n",
       "      <th>1</th>\n",
       "      <td>belo_horizonte</td>\n",
       "      <td>2022-01-27</td>\n",
       "      <td>0NBgyml7T0IvUNbXIkcSpH</td>\n",
       "      <td>1.0</td>\n",
       "    </tr>\n",
       "    <tr>\n",
       "      <th>2</th>\n",
       "      <td>belo_horizonte</td>\n",
       "      <td>2022-01-20</td>\n",
       "      <td>0NBgyml7T0IvUNbXIkcSpH</td>\n",
       "      <td>1.0</td>\n",
       "    </tr>\n",
       "  </tbody>\n",
       "</table>\n",
       "</div>"
      ],
      "text/plain": [
       "       ID_Ranking        Data               ID_Musica  Posição\n",
       "0  belo_horizonte  2022-02-03  0NBgyml7T0IvUNbXIkcSpH      1.0\n",
       "1  belo_horizonte  2022-01-27  0NBgyml7T0IvUNbXIkcSpH      1.0\n",
       "2  belo_horizonte  2022-01-20  0NBgyml7T0IvUNbXIkcSpH      1.0"
      ]
     },
     "execution_count": 6,
     "metadata": {},
     "output_type": "execute_result"
    }
   ],
   "source": [
    "# Chart songs Table\n",
    "df_table_chart_songs = df_Charts_Songs[['ID_Chart', 'Date', 'Song_id', 'Position']].reset_index(drop = True)\n",
    "df_table_chart_songs.rename(columns={\"ID_Chart\": \"ID_Ranking\",\n",
    "                               \"Date\": \"Data\",\n",
    "                               \"Song_id\": \"ID_Musica\",\n",
    "                               \"Position\": \"Posição\",}, inplace= True)\n",
    "df_table_chart_songs.head(3)"
   ]
  },
  {
   "cell_type": "code",
   "execution_count": 7,
   "id": "db1574f6",
   "metadata": {
    "run_control": {
     "marked": true
    }
   },
   "outputs": [
    {
     "data": {
      "text/html": [
       "<div>\n",
       "<style scoped>\n",
       "    .dataframe tbody tr th:only-of-type {\n",
       "        vertical-align: middle;\n",
       "    }\n",
       "\n",
       "    .dataframe tbody tr th {\n",
       "        vertical-align: top;\n",
       "    }\n",
       "\n",
       "    .dataframe thead th {\n",
       "        text-align: right;\n",
       "    }\n",
       "</style>\n",
       "<table border=\"1\" class=\"dataframe\">\n",
       "  <thead>\n",
       "    <tr style=\"text-align: right;\">\n",
       "      <th></th>\n",
       "      <th>ID</th>\n",
       "      <th>ID_Album</th>\n",
       "      <th>Nome</th>\n",
       "      <th>Explicita</th>\n",
       "      <th>Popularidade</th>\n",
       "      <th>Danceabilidade</th>\n",
       "      <th>Energia</th>\n",
       "      <th>Volume</th>\n",
       "      <th>Valencia</th>\n",
       "      <th>Faixa</th>\n",
       "    </tr>\n",
       "  </thead>\n",
       "  <tbody>\n",
       "    <tr>\n",
       "      <th>0</th>\n",
       "      <td>0NBgyml7T0IvUNbXIkcSpH</td>\n",
       "      <td>1XrBVMRctpsTGw189yBIsl</td>\n",
       "      <td>Malvadão 3</td>\n",
       "      <td>False</td>\n",
       "      <td>92</td>\n",
       "      <td>0.821</td>\n",
       "      <td>0.609</td>\n",
       "      <td>-6.541</td>\n",
       "      <td>0.516</td>\n",
       "      <td>1</td>\n",
       "    </tr>\n",
       "    <tr>\n",
       "      <th>1</th>\n",
       "      <td>5719MEdRQcH4c3phXqX7WN</td>\n",
       "      <td>6wM2qL8ddXGiEMPy44Wt8I</td>\n",
       "      <td>Mal Feito - Ao Vivo</td>\n",
       "      <td>False</td>\n",
       "      <td>89</td>\n",
       "      <td>0.732</td>\n",
       "      <td>0.831</td>\n",
       "      <td>-3.791</td>\n",
       "      <td>0.684</td>\n",
       "      <td>1</td>\n",
       "    </tr>\n",
       "    <tr>\n",
       "      <th>2</th>\n",
       "      <td>1c4htMHiolERc0YJvZNdlc</td>\n",
       "      <td>2ULXBNAz2pgBQmwc3qODUz</td>\n",
       "      <td>Vai Lá Em Casa Hoje</td>\n",
       "      <td>False</td>\n",
       "      <td>89</td>\n",
       "      <td>0.456</td>\n",
       "      <td>0.830</td>\n",
       "      <td>-3.646</td>\n",
       "      <td>0.619</td>\n",
       "      <td>1</td>\n",
       "    </tr>\n",
       "    <tr>\n",
       "      <th>3</th>\n",
       "      <td>6nkoWsFZeFt5dUdNmlIceh</td>\n",
       "      <td>1AebCIKwFh7upRidnha8yo</td>\n",
       "      <td>Bloqueado - Ao Vivo</td>\n",
       "      <td>False</td>\n",
       "      <td>79</td>\n",
       "      <td>0.828</td>\n",
       "      <td>0.721</td>\n",
       "      <td>-4.274</td>\n",
       "      <td>0.651</td>\n",
       "      <td>3</td>\n",
       "    </tr>\n",
       "  </tbody>\n",
       "</table>\n",
       "</div>"
      ],
      "text/plain": [
       "                       ID                ID_Album                 Nome  \\\n",
       "0  0NBgyml7T0IvUNbXIkcSpH  1XrBVMRctpsTGw189yBIsl           Malvadão 3   \n",
       "1  5719MEdRQcH4c3phXqX7WN  6wM2qL8ddXGiEMPy44Wt8I  Mal Feito - Ao Vivo   \n",
       "2  1c4htMHiolERc0YJvZNdlc  2ULXBNAz2pgBQmwc3qODUz  Vai Lá Em Casa Hoje   \n",
       "3  6nkoWsFZeFt5dUdNmlIceh  1AebCIKwFh7upRidnha8yo  Bloqueado - Ao Vivo   \n",
       "\n",
       "   Explicita  Popularidade  Danceabilidade  Energia  Volume  Valencia  Faixa  \n",
       "0      False            92           0.821    0.609  -6.541     0.516      1  \n",
       "1      False            89           0.732    0.831  -3.791     0.684      1  \n",
       "2      False            89           0.456    0.830  -3.646     0.619      1  \n",
       "3      False            79           0.828    0.721  -4.274     0.651      3  "
      ]
     },
     "execution_count": 7,
     "metadata": {},
     "output_type": "execute_result"
    }
   ],
   "source": [
    "## Album Songs Table\n",
    "df_table_songs = df_Charts_Songs[['Song_id', 'Album_id', 'Song_Name', 'Song_Explicit', 'Song_popularity',\n",
    "                                       'Song_danceability','Song_energy', 'Song_loudness',\n",
    "                                        'Song_valence', 'Song_track_number'\n",
    "                                       ]].drop_duplicates().reset_index(drop = True)\n",
    "\n",
    "df_table_songs.rename(columns={\"Song_id\": \"ID\",\n",
    "                               \"Album_id\": \"ID_Album\",\n",
    "                               \"Song_Name\": \"Nome\",\n",
    "                               \"Song_Explicit\": \"Explicita\",\n",
    "                               \"Song_popularity\": \"Popularidade\",\n",
    "                               \"Song_danceability\": \"Danceabilidade\",\n",
    "                               \"Song_energy\": \"Energia\",\n",
    "                               \"Song_loudness\": \"Volume\",\n",
    "                               \"Song_valence\": \"Valencia\",\n",
    "                               \"Song_track_number\": \"Faixa\"}, inplace= True)\n",
    "\n",
    "df_table_songs.head(4)"
   ]
  },
  {
   "cell_type": "code",
   "execution_count": 8,
   "id": "84b83474",
   "metadata": {},
   "outputs": [
    {
     "data": {
      "text/html": [
       "<div>\n",
       "<style scoped>\n",
       "    .dataframe tbody tr th:only-of-type {\n",
       "        vertical-align: middle;\n",
       "    }\n",
       "\n",
       "    .dataframe tbody tr th {\n",
       "        vertical-align: top;\n",
       "    }\n",
       "\n",
       "    .dataframe thead th {\n",
       "        text-align: right;\n",
       "    }\n",
       "</style>\n",
       "<table border=\"1\" class=\"dataframe\">\n",
       "  <thead>\n",
       "    <tr style=\"text-align: right;\">\n",
       "      <th></th>\n",
       "      <th>ID</th>\n",
       "      <th>Nome</th>\n",
       "      <th>Data</th>\n",
       "      <th>Imagem_capa</th>\n",
       "    </tr>\n",
       "  </thead>\n",
       "  <tbody>\n",
       "    <tr>\n",
       "      <th>0</th>\n",
       "      <td>1XrBVMRctpsTGw189yBIsl</td>\n",
       "      <td>Malvadão 3</td>\n",
       "      <td>2021-11-30</td>\n",
       "      <td>https://i.scdn.co/image/ab67616d0000b273ead325...</td>\n",
       "    </tr>\n",
       "    <tr>\n",
       "      <th>1</th>\n",
       "      <td>6wM2qL8ddXGiEMPy44Wt8I</td>\n",
       "      <td>Mal Feito (Ao Vivo)</td>\n",
       "      <td>2022-01-14</td>\n",
       "      <td>https://i.scdn.co/image/ab67616d0000b273054b55...</td>\n",
       "    </tr>\n",
       "    <tr>\n",
       "      <th>2</th>\n",
       "      <td>2ULXBNAz2pgBQmwc3qODUz</td>\n",
       "      <td>Vai Lá Em Casa Hoje</td>\n",
       "      <td>2021-10-22</td>\n",
       "      <td>https://i.scdn.co/image/ab67616d0000b273e3db1d...</td>\n",
       "    </tr>\n",
       "    <tr>\n",
       "      <th>3</th>\n",
       "      <td>1AebCIKwFh7upRidnha8yo</td>\n",
       "      <td>Buteco in Boston (Ao Vivo)</td>\n",
       "      <td>2021-12-16</td>\n",
       "      <td>https://i.scdn.co/image/ab67616d0000b273fefe16...</td>\n",
       "    </tr>\n",
       "  </tbody>\n",
       "</table>\n",
       "</div>"
      ],
      "text/plain": [
       "                       ID                        Nome        Data  \\\n",
       "0  1XrBVMRctpsTGw189yBIsl                  Malvadão 3  2021-11-30   \n",
       "1  6wM2qL8ddXGiEMPy44Wt8I         Mal Feito (Ao Vivo)  2022-01-14   \n",
       "2  2ULXBNAz2pgBQmwc3qODUz         Vai Lá Em Casa Hoje  2021-10-22   \n",
       "3  1AebCIKwFh7upRidnha8yo  Buteco in Boston (Ao Vivo)  2021-12-16   \n",
       "\n",
       "                                         Imagem_capa  \n",
       "0  https://i.scdn.co/image/ab67616d0000b273ead325...  \n",
       "1  https://i.scdn.co/image/ab67616d0000b273054b55...  \n",
       "2  https://i.scdn.co/image/ab67616d0000b273e3db1d...  \n",
       "3  https://i.scdn.co/image/ab67616d0000b273fefe16...  "
      ]
     },
     "execution_count": 8,
     "metadata": {},
     "output_type": "execute_result"
    }
   ],
   "source": [
    "## Album Table\n",
    "df_table_albums = df_Charts_Songs[['Album_id', 'Album_name', 'Album_release','Album_image']].drop_duplicates().reset_index(drop = True)\n",
    "df_table_albums.rename(columns={\"Album_id\": \"ID\",\n",
    "                               \"Album_name\": \"Nome\",\n",
    "                               \"Album_release\": \"Data\",\n",
    "                               \"Album_image\": \"Imagem_capa\"}, inplace= True)\n",
    "df_table_albums.head(4)"
   ]
  },
  {
   "cell_type": "code",
   "execution_count": 9,
   "id": "383e6eed",
   "metadata": {
    "run_control": {
     "marked": true
    }
   },
   "outputs": [
    {
     "data": {
      "text/html": [
       "<div>\n",
       "<style scoped>\n",
       "    .dataframe tbody tr th:only-of-type {\n",
       "        vertical-align: middle;\n",
       "    }\n",
       "\n",
       "    .dataframe tbody tr th {\n",
       "        vertical-align: top;\n",
       "    }\n",
       "\n",
       "    .dataframe thead th {\n",
       "        text-align: right;\n",
       "    }\n",
       "</style>\n",
       "<table border=\"1\" class=\"dataframe\">\n",
       "  <thead>\n",
       "    <tr style=\"text-align: right;\">\n",
       "      <th></th>\n",
       "      <th>ID_Artista</th>\n",
       "      <th>ID_Album</th>\n",
       "    </tr>\n",
       "  </thead>\n",
       "  <tbody>\n",
       "    <tr>\n",
       "      <th>0</th>\n",
       "      <td>5YwzDz4RJfTiMHS4tdR5Lf</td>\n",
       "      <td>1XrBVMRctpsTGw189yBIsl</td>\n",
       "    </tr>\n",
       "    <tr>\n",
       "      <th>1</th>\n",
       "      <td>1LIuN7ov1IBQDdLsU83ojl</td>\n",
       "      <td>6wM2qL8ddXGiEMPy44Wt8I</td>\n",
       "    </tr>\n",
       "    <tr>\n",
       "      <th>2</th>\n",
       "      <td>3FlCKtwOEYQQYyGVEbxG2Z</td>\n",
       "      <td>2ULXBNAz2pgBQmwc3qODUz</td>\n",
       "    </tr>\n",
       "    <tr>\n",
       "      <th>3</th>\n",
       "      <td>7MiDcPa6UiV3In7lIM71IN</td>\n",
       "      <td>1AebCIKwFh7upRidnha8yo</td>\n",
       "    </tr>\n",
       "  </tbody>\n",
       "</table>\n",
       "</div>"
      ],
      "text/plain": [
       "               ID_Artista                ID_Album\n",
       "0  5YwzDz4RJfTiMHS4tdR5Lf  1XrBVMRctpsTGw189yBIsl\n",
       "1  1LIuN7ov1IBQDdLsU83ojl  6wM2qL8ddXGiEMPy44Wt8I\n",
       "2  3FlCKtwOEYQQYyGVEbxG2Z  2ULXBNAz2pgBQmwc3qODUz\n",
       "3  7MiDcPa6UiV3In7lIM71IN  1AebCIKwFh7upRidnha8yo"
      ]
     },
     "execution_count": 9,
     "metadata": {},
     "output_type": "execute_result"
    }
   ],
   "source": [
    "## Artist Albums Table\n",
    "df_table_artist_albums = df_Charts_Songs[['Artist_id', 'Album_id']].drop_duplicates().reset_index(drop = True)\n",
    "df_table_artist_albums.rename(columns={\"Album_id\": \"ID_Album\",\n",
    "                          \"Artist_id\": \"ID_Artista\"}, inplace= True)\n",
    "df_table_artist_albums.head(4)"
   ]
  },
  {
   "cell_type": "code",
   "execution_count": 10,
   "id": "45a36ac9",
   "metadata": {
    "run_control": {
     "marked": true
    }
   },
   "outputs": [
    {
     "data": {
      "text/html": [
       "<div>\n",
       "<style scoped>\n",
       "    .dataframe tbody tr th:only-of-type {\n",
       "        vertical-align: middle;\n",
       "    }\n",
       "\n",
       "    .dataframe tbody tr th {\n",
       "        vertical-align: top;\n",
       "    }\n",
       "\n",
       "    .dataframe thead th {\n",
       "        text-align: right;\n",
       "    }\n",
       "</style>\n",
       "<table border=\"1\" class=\"dataframe\">\n",
       "  <thead>\n",
       "    <tr style=\"text-align: right;\">\n",
       "      <th></th>\n",
       "      <th>ID</th>\n",
       "      <th>Nome</th>\n",
       "      <th>Seguidores</th>\n",
       "      <th>Popularidade</th>\n",
       "    </tr>\n",
       "  </thead>\n",
       "  <tbody>\n",
       "    <tr>\n",
       "      <th>0</th>\n",
       "      <td>5YwzDz4RJfTiMHS4tdR5Lf</td>\n",
       "      <td>Xamã</td>\n",
       "      <td>1356506</td>\n",
       "      <td>82</td>\n",
       "    </tr>\n",
       "    <tr>\n",
       "      <th>1</th>\n",
       "      <td>1LIuN7ov1IBQDdLsU83ojl</td>\n",
       "      <td>Hugo &amp; Guilherme</td>\n",
       "      <td>571090</td>\n",
       "      <td>78</td>\n",
       "    </tr>\n",
       "    <tr>\n",
       "      <th>2</th>\n",
       "      <td>3FlCKtwOEYQQYyGVEbxG2Z</td>\n",
       "      <td>George Henrique &amp; Rodrigo</td>\n",
       "      <td>1262190</td>\n",
       "      <td>75</td>\n",
       "    </tr>\n",
       "    <tr>\n",
       "      <th>3</th>\n",
       "      <td>7MiDcPa6UiV3In7lIM71IN</td>\n",
       "      <td>Gusttavo Lima</td>\n",
       "      <td>15014715</td>\n",
       "      <td>84</td>\n",
       "    </tr>\n",
       "  </tbody>\n",
       "</table>\n",
       "</div>"
      ],
      "text/plain": [
       "                       ID                       Nome  Seguidores  Popularidade\n",
       "0  5YwzDz4RJfTiMHS4tdR5Lf                       Xamã     1356506            82\n",
       "1  1LIuN7ov1IBQDdLsU83ojl           Hugo & Guilherme      571090            78\n",
       "2  3FlCKtwOEYQQYyGVEbxG2Z  George Henrique & Rodrigo     1262190            75\n",
       "3  7MiDcPa6UiV3In7lIM71IN              Gusttavo Lima    15014715            84"
      ]
     },
     "execution_count": 10,
     "metadata": {},
     "output_type": "execute_result"
    }
   ],
   "source": [
    "## Artist Table\n",
    "df_table_artists = df_Charts_Songs[['Artist_id', 'Artist_name', 'Artist_followers', \n",
    "                                    'Artist_popularity']].drop_duplicates().reset_index(drop = True)\n",
    "\n",
    "df_table_artists.rename(columns={\"Artist_id\": \"ID\",\n",
    "                               \"Artist_name\": \"Nome\",\n",
    "                               \"Artist_followers\": \"Seguidores\",\n",
    "                               \"Artist_popularity\": \"Popularidade\"}, inplace= True)\n",
    "df_table_artists.head(4)"
   ]
  },
  {
   "cell_type": "code",
   "execution_count": 11,
   "id": "9d62654f",
   "metadata": {
    "run_control": {
     "marked": true
    }
   },
   "outputs": [
    {
     "data": {
      "text/html": [
       "<div>\n",
       "<style scoped>\n",
       "    .dataframe tbody tr th:only-of-type {\n",
       "        vertical-align: middle;\n",
       "    }\n",
       "\n",
       "    .dataframe tbody tr th {\n",
       "        vertical-align: top;\n",
       "    }\n",
       "\n",
       "    .dataframe thead th {\n",
       "        text-align: right;\n",
       "    }\n",
       "</style>\n",
       "<table border=\"1\" class=\"dataframe\">\n",
       "  <thead>\n",
       "    <tr style=\"text-align: right;\">\n",
       "      <th></th>\n",
       "      <th>ID_Artista</th>\n",
       "      <th>Genero</th>\n",
       "    </tr>\n",
       "  </thead>\n",
       "  <tbody>\n",
       "    <tr>\n",
       "      <th>0</th>\n",
       "      <td>5YwzDz4RJfTiMHS4tdR5Lf</td>\n",
       "      <td>brazilian hip hop</td>\n",
       "    </tr>\n",
       "    <tr>\n",
       "      <th>1</th>\n",
       "      <td>5YwzDz4RJfTiMHS4tdR5Lf</td>\n",
       "      <td>funk carioca</td>\n",
       "    </tr>\n",
       "    <tr>\n",
       "      <th>2</th>\n",
       "      <td>5YwzDz4RJfTiMHS4tdR5Lf</td>\n",
       "      <td>trap brasileiro</td>\n",
       "    </tr>\n",
       "    <tr>\n",
       "      <th>3</th>\n",
       "      <td>1LIuN7ov1IBQDdLsU83ojl</td>\n",
       "      <td>brazilian hip hop</td>\n",
       "    </tr>\n",
       "  </tbody>\n",
       "</table>\n",
       "</div>"
      ],
      "text/plain": [
       "               ID_Artista             Genero\n",
       "0  5YwzDz4RJfTiMHS4tdR5Lf  brazilian hip hop\n",
       "1  5YwzDz4RJfTiMHS4tdR5Lf       funk carioca\n",
       "2  5YwzDz4RJfTiMHS4tdR5Lf    trap brasileiro\n",
       "3  1LIuN7ov1IBQDdLsU83ojl  brazilian hip hop"
      ]
     },
     "execution_count": 11,
     "metadata": {},
     "output_type": "execute_result"
    }
   ],
   "source": [
    "## Artist Genders\n",
    "\n",
    "artist_genders = []\n",
    "df_artistis_genders = df_Charts_Songs[['Artist_id', 'Artist_genres']].drop_duplicates().reset_index(drop = True)\n",
    "\n",
    "for i in range(len(df_artistis_genders)):\n",
    "    \n",
    "    list_genders = df_Charts_Songs[\"Artist_genres\"][i].replace(\"[\", \"\").replace(\"]\", \"\").replace(\"'\", \"\").split(\", \")\n",
    "    \n",
    "    \n",
    "    for gender in list_genders:\n",
    "        artist_genders.append((df_artistis_genders[\"Artist_id\"][i], gender))\n",
    "        \n",
    "df_table_artist_genders = pd.DataFrame(artist_genders, columns=['Artist_id', 'Gender'])\n",
    "df_table_artist_genders.rename(columns={\"Artist_id\": \"ID_Artista\",\n",
    "                                    \"Gender\": \"Genero\",}, inplace= True)\n",
    "df_table_artist_genders.head(4)"
   ]
  },
  {
   "cell_type": "markdown",
   "id": "e84670d7",
   "metadata": {},
   "source": [
    "## Creating DataBase"
   ]
  },
  {
   "cell_type": "code",
   "execution_count": 12,
   "id": "5ea61055",
   "metadata": {
    "run_control": {
     "marked": true
    }
   },
   "outputs": [],
   "source": [
    "# try:\n",
    "#     conn = msql.connect(host='db4free.net', \n",
    "#                         user = \"grupo_spotify\",  \n",
    "#                         password = \"ufrjbdspotify\",\n",
    "#                         port: \"3306\")\n",
    "# except Error as e:\n",
    "#     print(\"Error while connecting to MySQL\", e)"
   ]
  },
  {
   "cell_type": "code",
   "execution_count": 13,
   "id": "e3cf26ec",
   "metadata": {},
   "outputs": [],
   "source": [
    "try:\n",
    "    conn = msql.connect(host='db4free.net', \n",
    "                        user = \"grupo_spotifybd\",  \n",
    "                        password = \"ufrj_bd_spotify\",\n",
    "                        port = \"3306\")\n",
    "except Error as e:\n",
    "    print(\"Error while connecting to MySQL\", e)"
   ]
  },
  {
   "cell_type": "code",
   "execution_count": 14,
   "id": "b8cca73b",
   "metadata": {},
   "outputs": [],
   "source": [
    "cursor = conn.cursor()"
   ]
  },
  {
   "cell_type": "markdown",
   "id": "92d81153",
   "metadata": {},
   "source": [
    "## Creating Tables"
   ]
  },
  {
   "cell_type": "code",
   "execution_count": 15,
   "id": "f3f244af",
   "metadata": {},
   "outputs": [],
   "source": [
    "database = \"Ranking_Cidades_Brasileiras\""
   ]
  },
  {
   "cell_type": "code",
   "execution_count": 16,
   "id": "959bb40b",
   "metadata": {},
   "outputs": [],
   "source": [
    "cursor.execute(\"USE {database};\".format(database = database))"
   ]
  },
  {
   "cell_type": "markdown",
   "id": "0e28560f",
   "metadata": {},
   "source": [
    "#### Ranking Table"
   ]
  },
  {
   "cell_type": "code",
   "execution_count": 17,
   "id": "13de1635",
   "metadata": {},
   "outputs": [],
   "source": [
    "table = \"Ranking\"\n",
    "\n",
    "cursor.execute('DROP TABLE IF EXISTS {table};'.format(table = table))\n",
    "\n",
    "cursor.execute(\"\"\"CREATE TABLE {table}(ID varchar(255) NOT NULL PRIMARY KEY,\n",
    "                                        Codigo_Cidade int NOT NULL,\n",
    "                                        Tipo varchar(255) NOT NULL)\"\"\".format(table = table))\n",
    "for i,row in df_table_chart.iterrows():\n",
    "\n",
    "    sql = \"INSERT INTO {database}.{table} VALUES (%s,%s,%s)\".format(database = database,table = table)\n",
    "    cursor.execute(sql, tuple(row))\n",
    "    conn.commit()"
   ]
  },
  {
   "cell_type": "markdown",
   "id": "1de0d4b6",
   "metadata": {},
   "source": [
    "#### Artist Table"
   ]
  },
  {
   "cell_type": "code",
   "execution_count": 18,
   "id": "8d50bfb5",
   "metadata": {},
   "outputs": [],
   "source": [
    "table = \"Artista\"\n",
    "\n",
    "cursor.execute('DROP TABLE IF EXISTS {table};'.format(table = table))\n",
    "\n",
    "cursor.execute(\"\"\"CREATE TABLE {table}( ID VARCHAR(255) NOT NULL PRIMARY KEY,\n",
    "                                        Nome VARCHAR(255) NOT NULL,\n",
    "                                        Seguidores INT NOT NULL,\n",
    "                                        Popularidade INT NOT NULL)\"\"\".format(table = table))\n",
    "for i,row in df_table_artists.iterrows():\n",
    "\n",
    "    sql = \"INSERT INTO {database}.{table} VALUES (%s,%s,%s,%s)\".format(database = database,table = table)\n",
    "    cursor.execute(sql, tuple(row))\n",
    "    conn.commit()"
   ]
  },
  {
   "cell_type": "markdown",
   "id": "6d648a99",
   "metadata": {},
   "source": [
    "#### Album Table"
   ]
  },
  {
   "cell_type": "code",
   "execution_count": 19,
   "id": "9e489eae",
   "metadata": {
    "run_control": {
     "marked": false
    }
   },
   "outputs": [],
   "source": [
    "table = \"Album\"\n",
    "\n",
    "cursor.execute('DROP TABLE IF EXISTS {table};'.format(table = table))\n",
    "\n",
    "cursor.execute(\"\"\"CREATE TABLE {table}( ID VARCHAR(255) NOT NULL PRIMARY KEY,\n",
    "                                        Nome VARCHAR(255) NOT NULL,   \n",
    "                                        Data DATE,\n",
    "                                        Imagem_capa MEDIUMBLOB NOT NULL)\"\"\".format(table = table))\n",
    "\n",
    "for i,row in df_table_albums.iterrows():\n",
    "    \n",
    "    url = row[3]    \n",
    "    img_bytes = requests.get(url).content\n",
    "    data = row[0:3].tolist()\n",
    "    data.append(img_bytes)\n",
    "         \n",
    "    try: \n",
    "        int(row[2])\n",
    "        sql = \"INSERT INTO {database}.{table} VALUES (%s,%s,NULL,%s)\".format(database = database,table = table)\n",
    "        data.remove(row[2])   \n",
    "        cursor.execute(sql, tuple(data))\n",
    "        \n",
    "    except :\n",
    "        sql = \"INSERT INTO {database}.{table} VALUES (%s,%s,%s,%s)\".format(database = database,table = table)\n",
    "        cursor.execute(sql, tuple(data))\n",
    "        \n",
    "    conn.commit()"
   ]
  },
  {
   "cell_type": "markdown",
   "id": "5b21f3f3",
   "metadata": {},
   "source": [
    "#### Song Table"
   ]
  },
  {
   "cell_type": "code",
   "execution_count": 20,
   "id": "a47567fe",
   "metadata": {},
   "outputs": [],
   "source": [
    "df_table_songs.Explicita = df_table_songs.Explicita.astype(int)\n",
    "\n",
    "table = \"Música\"\n",
    "\n",
    "cursor.execute('DROP TABLE IF EXISTS {table};'.format(table = table))\n",
    "\n",
    "cursor.execute(\"\"\"CREATE TABLE {table}( ID VARCHAR(255) NOT NULL PRIMARY KEY,\n",
    "                                        ID_Album VARCHAR(255) NOT NULL,\n",
    "                                        Nome VARCHAR(255) NOT NULL,\n",
    "                                        Faixa INT NOT NULL,\n",
    "                                        Explicita TINYINT NOT NULL,\n",
    "                                        Popularidade INT NOT NULL,\n",
    "                                        Danceabilidade FLOAT(3) NOT NULL,\n",
    "                                        Energia FLOAT(3) NOT NULL,\n",
    "                                        Volume FLOAT(3) NOT NULL,\n",
    "                                        Valencia FLOAT(3) NOT NULL,\n",
    "                                        FOREIGN KEY (ID_Album) REFERENCES Album(ID))\"\"\".format(table = table))\n",
    "for i,row in df_table_songs.iterrows():\n",
    "\n",
    "    sql = \"INSERT INTO {database}.{table} VALUES (%s,%s,%s,%s,%s,%s,%s,%s,%s,%s)\".format(database = database,table = table)\n",
    "    cursor.execute(sql, tuple(row))\n",
    "    conn.commit()"
   ]
  },
  {
   "cell_type": "markdown",
   "id": "841bc9ae",
   "metadata": {},
   "source": [
    "#### City Table"
   ]
  },
  {
   "cell_type": "code",
   "execution_count": 21,
   "id": "9f373cb6",
   "metadata": {},
   "outputs": [],
   "source": [
    "df_table_songs.Explicita = df_table_songs.Explicita.astype(int)\n",
    "\n",
    "table = \"Cidade\"\n",
    "\n",
    "cursor.execute('DROP TABLE IF EXISTS {table};'.format(table = table))\n",
    "\n",
    "cursor.execute(\"\"\"CREATE TABLE {table}( ID INT NOT NULL PRIMARY KEY,\n",
    "                                        Cidade VARCHAR(255) NOT NULL,\n",
    "                                        Região VARCHAR(255) NOT NULL)\"\"\".format(table = table))\n",
    "for i,row in df_table_cities.iterrows():\n",
    "\n",
    "    sql = \"INSERT INTO {database}.{table} VALUES (%s,%s,%s)\".format(database = database,table = table)\n",
    "    cursor.execute(sql, tuple(row))\n",
    "    conn.commit()"
   ]
  },
  {
   "cell_type": "markdown",
   "id": "f04dcaef",
   "metadata": {},
   "source": [
    "#### Gender Table"
   ]
  },
  {
   "cell_type": "code",
   "execution_count": 22,
   "id": "ce911560",
   "metadata": {},
   "outputs": [],
   "source": [
    "df_table_songs.Explicita = df_table_songs.Explicita.astype(int)\n",
    "\n",
    "table = \"Gênero\"\n",
    "\n",
    "cursor.execute('DROP TABLE IF EXISTS {table};'.format(table = table))\n",
    "\n",
    "cursor.execute(\"\"\"CREATE TABLE {table}( ID_Artista VARCHAR(255) NOT NULL,\n",
    "                                        Gênero VARCHAR(255),\n",
    "                                        FOREIGN KEY (ID_Artista) REFERENCES Artista(ID))\"\"\".format(table = table))\n",
    "\n",
    "for i,row in df_table_artist_genders.iterrows():\n",
    "\n",
    "    sql = \"INSERT INTO {database}.{table} VALUES (%s,%s)\".format(database = database,table = table)\n",
    "    cursor.execute(sql, tuple(row))\n",
    "    conn.commit()"
   ]
  },
  {
   "cell_type": "markdown",
   "id": "1eb1874a",
   "metadata": {},
   "source": [
    "#### Artist's Albums"
   ]
  },
  {
   "cell_type": "code",
   "execution_count": 23,
   "id": "cece48af",
   "metadata": {},
   "outputs": [],
   "source": [
    "df_table_songs.Explicita = df_table_songs.Explicita.astype(int)\n",
    "\n",
    "table = \"Performa\"\n",
    "\n",
    "cursor.execute('DROP TABLE IF EXISTS {table};'.format(table = table))\n",
    "\n",
    "cursor.execute(\"\"\"CREATE TABLE {table}( ID_Artista VARCHAR(255) NOT NULL,\n",
    "                                        ID_Album VARCHAR(255) NOT NULL,\n",
    "                                        FOREIGN KEY (ID_Artista) REFERENCES Artista(ID),\n",
    "                                        FOREIGN KEY (ID_Album) REFERENCES Album(ID))\"\"\".format(table = table))\n",
    "\n",
    "for i,row in df_table_artist_albums.iterrows():\n",
    "\n",
    "    sql = \"INSERT INTO {database}.{table} VALUES (%s,%s)\".format(database = database,table = table)\n",
    "    cursor.execute(sql, tuple(row))\n",
    "    conn.commit()"
   ]
  },
  {
   "cell_type": "markdown",
   "id": "eb524b22",
   "metadata": {},
   "source": [
    "#### Ranking's Songs"
   ]
  },
  {
   "cell_type": "code",
   "execution_count": null,
   "id": "a915e835",
   "metadata": {},
   "outputs": [],
   "source": [
    "table = \"Performa\"\n",
    "\n",
    "cursor.execute('DROP TABLE IF EXISTS {table};'.format(table = table))\n",
    "\n",
    "cursor.execute(\"\"\"CREATE TABLE {table}( ID_Ranking VARCHAR(255) NOT NULL,\n",
    "                                        Data DATE NOT NULL,\n",
    "                                        ID_Música VARCHAR(255) NOT NULL,                                        \n",
    "                                        Posição INT NOT NULL,\n",
    "                                        FOREIGN KEY (ID_Ranking) REFERENCES Ranking(ID),\n",
    "                                        FOREIGN KEY (ID_Música) REFERENCES Música(ID))\"\"\".format(table = table))\n",
    "\n",
    "for i,row in df_table_chart_songs.iterrows():\n",
    "\n",
    "    sql = \"INSERT INTO {database}.{table} VALUES (%s,%s,%s,%s)\".format(database = database,table = table)\n",
    "    cursor.execute(sql, tuple(row))\n",
    "    conn.commit()"
   ]
  }
 ],
 "metadata": {
  "kernelspec": {
   "display_name": "Python 3",
   "language": "python",
   "name": "python3"
  },
  "language_info": {
   "codemirror_mode": {
    "name": "ipython",
    "version": 3
   },
   "file_extension": ".py",
   "mimetype": "text/x-python",
   "name": "python",
   "nbconvert_exporter": "python",
   "pygments_lexer": "ipython3",
   "version": "3.8.8"
  }
 },
 "nbformat": 4,
 "nbformat_minor": 5
}
