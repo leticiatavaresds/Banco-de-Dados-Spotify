{
 "cells": [
  {
   "cell_type": "code",
   "execution_count": 34,
   "id": "4b8e4a63",
   "metadata": {},
   "outputs": [],
   "source": [
    "import pandas as pd\n",
    "import numpy as np\n",
    "import pymysql.cursors\n",
    "import requests\n",
    "import config"
   ]
  },
  {
   "cell_type": "markdown",
   "id": "7bde01e0",
   "metadata": {},
   "source": [
    "## Reading Data"
   ]
  },
  {
   "cell_type": "code",
   "execution_count": 3,
   "id": "eed1fcd8",
   "metadata": {
    "run_control": {
     "marked": false
    }
   },
   "outputs": [],
   "source": [
    "url = \"https://raw.githubusercontent.com/leticiatavaresds/Banco-de-Dados-Spotify/main/Data/dados_spotify_cidades.csv\"\n",
    "df_Charts_Cities = pd.read_csv(url, index_col=False, delimiter = ',')\n",
    "df_Charts_Cities.rename(columns={\"Track_id\": \"Song_id\"}, inplace= True)\n",
    "df_Charts_Cities.rename(columns={\"City\": \"Chart\"}, inplace= True)\n",
    "\n",
    "df_Charts_Cities[\"ID_Chart\"] = df_Charts_Cities.Chart.str.lower().str.replace(\" \", \"_\").str.replace(\"local_pulse\", \"lp\")\n",
    "df_Charts_Cities[\"ID_Chart\"] = df_Charts_Cities.ID_Chart.str.normalize('NFKD').str.encode('ascii', errors='ignore').str.decode(\"utf-8\")\n",
    "\n",
    "df_Charts_Cities[\"Type\"]= np.where(df_Charts_Cities['Chart'].str.contains('Local Pulse'), \"Local Pulse\", \"Normal\")\n",
    "df_Charts_Cities[\"Cidade\"] = df_Charts_Cities.Chart.str.replace(\"Local Pulse \", \"\")\n",
    "\n",
    "url = \"https://raw.githubusercontent.com/leticiatavaresds/Banco-de-Dados-Spotify/main/Data/data_songs.csv\"\n",
    "df_Songs = pd.read_csv(url, index_col=False, delimiter = ',')\n",
    "\n",
    "\n",
    "url = \"https://raw.githubusercontent.com/leticiatavaresds/Banco-de-Dados-Spotify/main/Data/IBGE_cidades.csv\"\n",
    "df_Cities = pd.read_csv(url, index_col=False, delimiter = ',')\n",
    "\n",
    "df_Charts_Songs = pd.merge(df_Charts_Cities,df_Songs, on = 'Song_id')\n",
    "df_Charts_Songs = pd.merge(df_Charts_Songs,df_Cities[[\"Cidade\", \"Código_Cidade\"]], on = 'Cidade')"
   ]
  },
  {
   "cell_type": "markdown",
   "id": "17a0cf7d",
   "metadata": {},
   "source": [
    "## Creating Dataframes"
   ]
  },
  {
   "cell_type": "code",
   "execution_count": 4,
   "id": "f89f41fa",
   "metadata": {
    "run_control": {
     "marked": true
    }
   },
   "outputs": [
    {
     "data": {
      "text/html": [
       "<div>\n",
       "<style scoped>\n",
       "    .dataframe tbody tr th:only-of-type {\n",
       "        vertical-align: middle;\n",
       "    }\n",
       "\n",
       "    .dataframe tbody tr th {\n",
       "        vertical-align: top;\n",
       "    }\n",
       "\n",
       "    .dataframe thead th {\n",
       "        text-align: right;\n",
       "    }\n",
       "</style>\n",
       "<table border=\"1\" class=\"dataframe\">\n",
       "  <thead>\n",
       "    <tr style=\"text-align: right;\">\n",
       "      <th></th>\n",
       "      <th>ID</th>\n",
       "      <th>Código_Cidade</th>\n",
       "      <th>Tipo</th>\n",
       "    </tr>\n",
       "  </thead>\n",
       "  <tbody>\n",
       "    <tr>\n",
       "      <th>0</th>\n",
       "      <td>belo_horizonte</td>\n",
       "      <td>3106200</td>\n",
       "      <td>Normal</td>\n",
       "    </tr>\n",
       "    <tr>\n",
       "      <th>1</th>\n",
       "      <td>lp_belo_horizonte</td>\n",
       "      <td>3106200</td>\n",
       "      <td>Local Pulse</td>\n",
       "    </tr>\n",
       "    <tr>\n",
       "      <th>2</th>\n",
       "      <td>belem</td>\n",
       "      <td>1501402</td>\n",
       "      <td>Normal</td>\n",
       "    </tr>\n",
       "  </tbody>\n",
       "</table>\n",
       "</div>"
      ],
      "text/plain": [
       "                  ID  Código_Cidade         Tipo\n",
       "0     belo_horizonte        3106200       Normal\n",
       "1  lp_belo_horizonte        3106200  Local Pulse\n",
       "2              belem        1501402       Normal"
      ]
     },
     "execution_count": 4,
     "metadata": {},
     "output_type": "execute_result"
    }
   ],
   "source": [
    "# Chart Table\n",
    "df_table_chart = df_Charts_Songs[['ID_Chart', 'Código_Cidade', 'Type']].drop_duplicates().reset_index(drop = True)\n",
    "df_table_chart.rename(columns={\"ID_Chart\": \"ID\",\n",
    "                               \"Type\": \"Tipo\"}, inplace= True)\n",
    "\n",
    "df_table_chart.head(3)"
   ]
  },
  {
   "cell_type": "code",
   "execution_count": 5,
   "id": "6cc1e351",
   "metadata": {},
   "outputs": [
    {
     "data": {
      "text/html": [
       "<div>\n",
       "<style scoped>\n",
       "    .dataframe tbody tr th:only-of-type {\n",
       "        vertical-align: middle;\n",
       "    }\n",
       "\n",
       "    .dataframe tbody tr th {\n",
       "        vertical-align: top;\n",
       "    }\n",
       "\n",
       "    .dataframe thead th {\n",
       "        text-align: right;\n",
       "    }\n",
       "</style>\n",
       "<table border=\"1\" class=\"dataframe\">\n",
       "  <thead>\n",
       "    <tr style=\"text-align: right;\">\n",
       "      <th></th>\n",
       "      <th>Código_Cidade</th>\n",
       "      <th>Cidade</th>\n",
       "      <th>Estado</th>\n",
       "    </tr>\n",
       "  </thead>\n",
       "  <tbody>\n",
       "    <tr>\n",
       "      <th>0</th>\n",
       "      <td>1302603</td>\n",
       "      <td>Manaus</td>\n",
       "      <td>Amazonas</td>\n",
       "    </tr>\n",
       "    <tr>\n",
       "      <th>1</th>\n",
       "      <td>1501402</td>\n",
       "      <td>Belém</td>\n",
       "      <td>Pará</td>\n",
       "    </tr>\n",
       "    <tr>\n",
       "      <th>2</th>\n",
       "      <td>2304400</td>\n",
       "      <td>Fortaleza</td>\n",
       "      <td>Ceará</td>\n",
       "    </tr>\n",
       "    <tr>\n",
       "      <th>3</th>\n",
       "      <td>2611606</td>\n",
       "      <td>Recife</td>\n",
       "      <td>Pernambuco</td>\n",
       "    </tr>\n",
       "  </tbody>\n",
       "</table>\n",
       "</div>"
      ],
      "text/plain": [
       "   Código_Cidade     Cidade      Estado\n",
       "0        1302603     Manaus    Amazonas\n",
       "1        1501402      Belém        Pará\n",
       "2        2304400  Fortaleza       Ceará\n",
       "3        2611606     Recife  Pernambuco"
      ]
     },
     "execution_count": 5,
     "metadata": {},
     "output_type": "execute_result"
    }
   ],
   "source": [
    "# Cities Table\n",
    "df_table_cities = df_Cities[['Código_Cidade', 'Cidade', 'Estado']]\n",
    "df_table_cities.head(4)"
   ]
  },
  {
   "cell_type": "code",
   "execution_count": 6,
   "id": "fa57fbfb",
   "metadata": {},
   "outputs": [
    {
     "data": {
      "text/html": [
       "<div>\n",
       "<style scoped>\n",
       "    .dataframe tbody tr th:only-of-type {\n",
       "        vertical-align: middle;\n",
       "    }\n",
       "\n",
       "    .dataframe tbody tr th {\n",
       "        vertical-align: top;\n",
       "    }\n",
       "\n",
       "    .dataframe thead th {\n",
       "        text-align: right;\n",
       "    }\n",
       "</style>\n",
       "<table border=\"1\" class=\"dataframe\">\n",
       "  <thead>\n",
       "    <tr style=\"text-align: right;\">\n",
       "      <th></th>\n",
       "      <th>Estado</th>\n",
       "      <th>Regiao</th>\n",
       "    </tr>\n",
       "  </thead>\n",
       "  <tbody>\n",
       "    <tr>\n",
       "      <th>0</th>\n",
       "      <td>Amazonas</td>\n",
       "      <td>Norte</td>\n",
       "    </tr>\n",
       "    <tr>\n",
       "      <th>1</th>\n",
       "      <td>Pará</td>\n",
       "      <td>Norte</td>\n",
       "    </tr>\n",
       "    <tr>\n",
       "      <th>2</th>\n",
       "      <td>Ceará</td>\n",
       "      <td>Nordeste</td>\n",
       "    </tr>\n",
       "    <tr>\n",
       "      <th>3</th>\n",
       "      <td>Pernambuco</td>\n",
       "      <td>Nordeste</td>\n",
       "    </tr>\n",
       "  </tbody>\n",
       "</table>\n",
       "</div>"
      ],
      "text/plain": [
       "       Estado    Regiao\n",
       "0    Amazonas     Norte\n",
       "1        Pará     Norte\n",
       "2       Ceará  Nordeste\n",
       "3  Pernambuco  Nordeste"
      ]
     },
     "execution_count": 6,
     "metadata": {},
     "output_type": "execute_result"
    }
   ],
   "source": [
    "# States Table\n",
    "df_table_states = df_Cities[['Estado', 'Regiao']].drop_duplicates().reset_index(drop = True)\n",
    "df_table_states.head(4)"
   ]
  },
  {
   "cell_type": "code",
   "execution_count": 7,
   "id": "cc125b7e",
   "metadata": {
    "run_control": {
     "marked": true
    }
   },
   "outputs": [
    {
     "data": {
      "text/html": [
       "<div>\n",
       "<style scoped>\n",
       "    .dataframe tbody tr th:only-of-type {\n",
       "        vertical-align: middle;\n",
       "    }\n",
       "\n",
       "    .dataframe tbody tr th {\n",
       "        vertical-align: top;\n",
       "    }\n",
       "\n",
       "    .dataframe thead th {\n",
       "        text-align: right;\n",
       "    }\n",
       "</style>\n",
       "<table border=\"1\" class=\"dataframe\">\n",
       "  <thead>\n",
       "    <tr style=\"text-align: right;\">\n",
       "      <th></th>\n",
       "      <th>ID_Ranking</th>\n",
       "      <th>Data</th>\n",
       "      <th>ID_Musica</th>\n",
       "      <th>Posição</th>\n",
       "    </tr>\n",
       "  </thead>\n",
       "  <tbody>\n",
       "    <tr>\n",
       "      <th>0</th>\n",
       "      <td>belo_horizonte</td>\n",
       "      <td>2021-10-21</td>\n",
       "      <td>2RGIuYTsyyHoOCqW0krvNE</td>\n",
       "      <td>1.0</td>\n",
       "    </tr>\n",
       "    <tr>\n",
       "      <th>1</th>\n",
       "      <td>belo_horizonte</td>\n",
       "      <td>2021-10-28</td>\n",
       "      <td>2RGIuYTsyyHoOCqW0krvNE</td>\n",
       "      <td>2.0</td>\n",
       "    </tr>\n",
       "    <tr>\n",
       "      <th>2</th>\n",
       "      <td>belo_horizonte</td>\n",
       "      <td>2021-11-04</td>\n",
       "      <td>2RGIuYTsyyHoOCqW0krvNE</td>\n",
       "      <td>2.0</td>\n",
       "    </tr>\n",
       "  </tbody>\n",
       "</table>\n",
       "</div>"
      ],
      "text/plain": [
       "       ID_Ranking        Data               ID_Musica  Posição\n",
       "0  belo_horizonte  2021-10-21  2RGIuYTsyyHoOCqW0krvNE      1.0\n",
       "1  belo_horizonte  2021-10-28  2RGIuYTsyyHoOCqW0krvNE      2.0\n",
       "2  belo_horizonte  2021-11-04  2RGIuYTsyyHoOCqW0krvNE      2.0"
      ]
     },
     "execution_count": 7,
     "metadata": {},
     "output_type": "execute_result"
    }
   ],
   "source": [
    "# Chart songs Table\n",
    "df_table_chart_songs = df_Charts_Songs[['ID_Chart', 'Date', 'Song_id', 'Position']].reset_index(drop = True)\n",
    "df_table_chart_songs.rename(columns={\"ID_Chart\": \"ID_Ranking\",\n",
    "                               \"Date\": \"Data\",\n",
    "                               \"Song_id\": \"ID_Musica\",\n",
    "                               \"Position\": \"Posição\",}, inplace= True)\n",
    "df_table_chart_songs.head(3)"
   ]
  },
  {
   "cell_type": "code",
   "execution_count": 8,
   "id": "db1574f6",
   "metadata": {
    "run_control": {
     "marked": true
    }
   },
   "outputs": [
    {
     "data": {
      "text/html": [
       "<div>\n",
       "<style scoped>\n",
       "    .dataframe tbody tr th:only-of-type {\n",
       "        vertical-align: middle;\n",
       "    }\n",
       "\n",
       "    .dataframe tbody tr th {\n",
       "        vertical-align: top;\n",
       "    }\n",
       "\n",
       "    .dataframe thead th {\n",
       "        text-align: right;\n",
       "    }\n",
       "</style>\n",
       "<table border=\"1\" class=\"dataframe\">\n",
       "  <thead>\n",
       "    <tr style=\"text-align: right;\">\n",
       "      <th></th>\n",
       "      <th>ID</th>\n",
       "      <th>ID_Album</th>\n",
       "      <th>Nome</th>\n",
       "      <th>Explicita</th>\n",
       "      <th>Popularidade</th>\n",
       "      <th>Danceabilidade</th>\n",
       "      <th>Energia</th>\n",
       "      <th>Volume</th>\n",
       "      <th>Valencia</th>\n",
       "      <th>Faixa</th>\n",
       "    </tr>\n",
       "  </thead>\n",
       "  <tbody>\n",
       "    <tr>\n",
       "      <th>0</th>\n",
       "      <td>2RGIuYTsyyHoOCqW0krvNE</td>\n",
       "      <td>22MXULSCWHEYSofgElYc8d</td>\n",
       "      <td>Coração Cachorro</td>\n",
       "      <td>False</td>\n",
       "      <td>83</td>\n",
       "      <td>0.739</td>\n",
       "      <td>0.758</td>\n",
       "      <td>-4.096</td>\n",
       "      <td>0.691</td>\n",
       "      <td>1</td>\n",
       "    </tr>\n",
       "    <tr>\n",
       "      <th>1</th>\n",
       "      <td>3agFBAMPiIvzfTh7a9Udm6</td>\n",
       "      <td>4SuhgccvYOKxul2PraUze0</td>\n",
       "      <td>Nota de Repúdio - Ao Vivo</td>\n",
       "      <td>False</td>\n",
       "      <td>81</td>\n",
       "      <td>0.811</td>\n",
       "      <td>0.807</td>\n",
       "      <td>-2.681</td>\n",
       "      <td>0.766</td>\n",
       "      <td>1</td>\n",
       "    </tr>\n",
       "    <tr>\n",
       "      <th>2</th>\n",
       "      <td>0DsPj89zlY3Us7xb5cXK5h</td>\n",
       "      <td>0Om1PwKKwmPRPhlZrUf0KJ</td>\n",
       "      <td>Trava na Pose, Chama no Zoom, Dá um Close (fea...</td>\n",
       "      <td>False</td>\n",
       "      <td>79</td>\n",
       "      <td>0.863</td>\n",
       "      <td>0.701</td>\n",
       "      <td>-5.038</td>\n",
       "      <td>0.769</td>\n",
       "      <td>1</td>\n",
       "    </tr>\n",
       "    <tr>\n",
       "      <th>3</th>\n",
       "      <td>48Ll1C6qAnP2UjnopQDh4a</td>\n",
       "      <td>1Hr2BJE35v4OYirOAe0hA3</td>\n",
       "      <td>Bala Love</td>\n",
       "      <td>False</td>\n",
       "      <td>81</td>\n",
       "      <td>0.628</td>\n",
       "      <td>0.318</td>\n",
       "      <td>-8.887</td>\n",
       "      <td>0.492</td>\n",
       "      <td>1</td>\n",
       "    </tr>\n",
       "  </tbody>\n",
       "</table>\n",
       "</div>"
      ],
      "text/plain": [
       "                       ID                ID_Album  \\\n",
       "0  2RGIuYTsyyHoOCqW0krvNE  22MXULSCWHEYSofgElYc8d   \n",
       "1  3agFBAMPiIvzfTh7a9Udm6  4SuhgccvYOKxul2PraUze0   \n",
       "2  0DsPj89zlY3Us7xb5cXK5h  0Om1PwKKwmPRPhlZrUf0KJ   \n",
       "3  48Ll1C6qAnP2UjnopQDh4a  1Hr2BJE35v4OYirOAe0hA3   \n",
       "\n",
       "                                                Nome  Explicita  Popularidade  \\\n",
       "0                                   Coração Cachorro      False            83   \n",
       "1                          Nota de Repúdio - Ao Vivo      False            81   \n",
       "2  Trava na Pose, Chama no Zoom, Dá um Close (fea...      False            79   \n",
       "3                                          Bala Love      False            81   \n",
       "\n",
       "   Danceabilidade  Energia  Volume  Valencia  Faixa  \n",
       "0           0.739    0.758  -4.096     0.691      1  \n",
       "1           0.811    0.807  -2.681     0.766      1  \n",
       "2           0.863    0.701  -5.038     0.769      1  \n",
       "3           0.628    0.318  -8.887     0.492      1  "
      ]
     },
     "execution_count": 8,
     "metadata": {},
     "output_type": "execute_result"
    }
   ],
   "source": [
    "## Album Songs Table\n",
    "df_table_songs = df_Charts_Songs[['Song_id', 'Album_id', 'Song_Name', 'Song_Explicit', 'Song_popularity',\n",
    "                                       'Song_danceability','Song_energy', 'Song_loudness',\n",
    "                                        'Song_valence', 'Song_track_number'\n",
    "                                       ]].drop_duplicates().reset_index(drop = True)\n",
    "\n",
    "df_table_songs.rename(columns={\"Song_id\": \"ID\",\n",
    "                               \"Album_id\": \"ID_Album\",\n",
    "                               \"Song_Name\": \"Nome\",\n",
    "                               \"Song_Explicit\": \"Explicita\",\n",
    "                               \"Song_popularity\": \"Popularidade\",\n",
    "                               \"Song_danceability\": \"Danceabilidade\",\n",
    "                               \"Song_energy\": \"Energia\",\n",
    "                               \"Song_loudness\": \"Volume\",\n",
    "                               \"Song_valence\": \"Valencia\",\n",
    "                               \"Song_track_number\": \"Faixa\"}, inplace= True)\n",
    "\n",
    "df_table_songs.head(4)"
   ]
  },
  {
   "cell_type": "code",
   "execution_count": 9,
   "id": "84b83474",
   "metadata": {},
   "outputs": [
    {
     "data": {
      "text/html": [
       "<div>\n",
       "<style scoped>\n",
       "    .dataframe tbody tr th:only-of-type {\n",
       "        vertical-align: middle;\n",
       "    }\n",
       "\n",
       "    .dataframe tbody tr th {\n",
       "        vertical-align: top;\n",
       "    }\n",
       "\n",
       "    .dataframe thead th {\n",
       "        text-align: right;\n",
       "    }\n",
       "</style>\n",
       "<table border=\"1\" class=\"dataframe\">\n",
       "  <thead>\n",
       "    <tr style=\"text-align: right;\">\n",
       "      <th></th>\n",
       "      <th>ID</th>\n",
       "      <th>Nome</th>\n",
       "      <th>Data</th>\n",
       "      <th>Imagem_capa</th>\n",
       "    </tr>\n",
       "  </thead>\n",
       "  <tbody>\n",
       "    <tr>\n",
       "      <th>0</th>\n",
       "      <td>22MXULSCWHEYSofgElYc8d</td>\n",
       "      <td>Coração Cachorro</td>\n",
       "      <td>2021-09-10</td>\n",
       "      <td>https://i.scdn.co/image/ab67616d0000b2734be609...</td>\n",
       "    </tr>\n",
       "    <tr>\n",
       "      <th>1</th>\n",
       "      <td>4SuhgccvYOKxul2PraUze0</td>\n",
       "      <td>Nota de Repúdio (Ao Vivo)</td>\n",
       "      <td>2021-09-03</td>\n",
       "      <td>https://i.scdn.co/image/ab67616d0000b2732b8f46...</td>\n",
       "    </tr>\n",
       "    <tr>\n",
       "      <th>2</th>\n",
       "      <td>0Om1PwKKwmPRPhlZrUf0KJ</td>\n",
       "      <td>Trava na Pose, Chama no Zoom, Dá um Close (fea...</td>\n",
       "      <td>2021-09-28</td>\n",
       "      <td>https://i.scdn.co/image/ab67616d0000b273b24daa...</td>\n",
       "    </tr>\n",
       "    <tr>\n",
       "      <th>3</th>\n",
       "      <td>1Hr2BJE35v4OYirOAe0hA3</td>\n",
       "      <td>Bala Love</td>\n",
       "      <td>2021-06-18</td>\n",
       "      <td>https://i.scdn.co/image/ab67616d0000b273598a80...</td>\n",
       "    </tr>\n",
       "  </tbody>\n",
       "</table>\n",
       "</div>"
      ],
      "text/plain": [
       "                       ID                                               Nome  \\\n",
       "0  22MXULSCWHEYSofgElYc8d                                   Coração Cachorro   \n",
       "1  4SuhgccvYOKxul2PraUze0                          Nota de Repúdio (Ao Vivo)   \n",
       "2  0Om1PwKKwmPRPhlZrUf0KJ  Trava na Pose, Chama no Zoom, Dá um Close (fea...   \n",
       "3  1Hr2BJE35v4OYirOAe0hA3                                          Bala Love   \n",
       "\n",
       "         Data                                        Imagem_capa  \n",
       "0  2021-09-10  https://i.scdn.co/image/ab67616d0000b2734be609...  \n",
       "1  2021-09-03  https://i.scdn.co/image/ab67616d0000b2732b8f46...  \n",
       "2  2021-09-28  https://i.scdn.co/image/ab67616d0000b273b24daa...  \n",
       "3  2021-06-18  https://i.scdn.co/image/ab67616d0000b273598a80...  "
      ]
     },
     "execution_count": 9,
     "metadata": {},
     "output_type": "execute_result"
    }
   ],
   "source": [
    "## Album Table\n",
    "df_table_albums = df_Charts_Songs[['Album_id', 'Album_name', 'Album_release','Album_image']].drop_duplicates().reset_index(drop = True)\n",
    "df_table_albums.rename(columns={\"Album_id\": \"ID\",\n",
    "                               \"Album_name\": \"Nome\",\n",
    "                               \"Album_release\": \"Data\",\n",
    "                               \"Album_image\": \"Imagem_capa\"}, inplace= True)\n",
    "df_table_albums.head(4)"
   ]
  },
  {
   "cell_type": "code",
   "execution_count": 10,
   "id": "383e6eed",
   "metadata": {
    "run_control": {
     "marked": true
    }
   },
   "outputs": [
    {
     "data": {
      "text/html": [
       "<div>\n",
       "<style scoped>\n",
       "    .dataframe tbody tr th:only-of-type {\n",
       "        vertical-align: middle;\n",
       "    }\n",
       "\n",
       "    .dataframe tbody tr th {\n",
       "        vertical-align: top;\n",
       "    }\n",
       "\n",
       "    .dataframe thead th {\n",
       "        text-align: right;\n",
       "    }\n",
       "</style>\n",
       "<table border=\"1\" class=\"dataframe\">\n",
       "  <thead>\n",
       "    <tr style=\"text-align: right;\">\n",
       "      <th></th>\n",
       "      <th>ID_Artista</th>\n",
       "      <th>ID_Album</th>\n",
       "    </tr>\n",
       "  </thead>\n",
       "  <tbody>\n",
       "    <tr>\n",
       "      <th>0</th>\n",
       "      <td>4KDxYlnGZEiS60pAnfZf4W</td>\n",
       "      <td>22MXULSCWHEYSofgElYc8d</td>\n",
       "    </tr>\n",
       "    <tr>\n",
       "      <th>1</th>\n",
       "      <td>7MiDcPa6UiV3In7lIM71IN</td>\n",
       "      <td>4SuhgccvYOKxul2PraUze0</td>\n",
       "    </tr>\n",
       "    <tr>\n",
       "      <th>2</th>\n",
       "      <td>2MUXvv3lFulPYMUCtNrEBu</td>\n",
       "      <td>0Om1PwKKwmPRPhlZrUf0KJ</td>\n",
       "    </tr>\n",
       "    <tr>\n",
       "      <th>3</th>\n",
       "      <td>0DjQFfVxBipTFTXRCwImMP</td>\n",
       "      <td>1Hr2BJE35v4OYirOAe0hA3</td>\n",
       "    </tr>\n",
       "  </tbody>\n",
       "</table>\n",
       "</div>"
      ],
      "text/plain": [
       "               ID_Artista                ID_Album\n",
       "0  4KDxYlnGZEiS60pAnfZf4W  22MXULSCWHEYSofgElYc8d\n",
       "1  7MiDcPa6UiV3In7lIM71IN  4SuhgccvYOKxul2PraUze0\n",
       "2  2MUXvv3lFulPYMUCtNrEBu  0Om1PwKKwmPRPhlZrUf0KJ\n",
       "3  0DjQFfVxBipTFTXRCwImMP  1Hr2BJE35v4OYirOAe0hA3"
      ]
     },
     "execution_count": 10,
     "metadata": {},
     "output_type": "execute_result"
    }
   ],
   "source": [
    "## Artist Albums Table\n",
    "df_table_artist_albums = df_Charts_Songs[['Artist_id', 'Album_id']].drop_duplicates().reset_index(drop = True)\n",
    "df_table_artist_albums.rename(columns={\"Album_id\": \"ID_Album\",\n",
    "                          \"Artist_id\": \"ID_Artista\"}, inplace= True)\n",
    "df_table_artist_albums.head(4)"
   ]
  },
  {
   "cell_type": "code",
   "execution_count": 11,
   "id": "45a36ac9",
   "metadata": {
    "run_control": {
     "marked": true
    }
   },
   "outputs": [
    {
     "data": {
      "text/html": [
       "<div>\n",
       "<style scoped>\n",
       "    .dataframe tbody tr th:only-of-type {\n",
       "        vertical-align: middle;\n",
       "    }\n",
       "\n",
       "    .dataframe tbody tr th {\n",
       "        vertical-align: top;\n",
       "    }\n",
       "\n",
       "    .dataframe thead th {\n",
       "        text-align: right;\n",
       "    }\n",
       "</style>\n",
       "<table border=\"1\" class=\"dataframe\">\n",
       "  <thead>\n",
       "    <tr style=\"text-align: right;\">\n",
       "      <th></th>\n",
       "      <th>ID</th>\n",
       "      <th>Nome</th>\n",
       "      <th>Seguidores</th>\n",
       "      <th>Popularidade</th>\n",
       "    </tr>\n",
       "  </thead>\n",
       "  <tbody>\n",
       "    <tr>\n",
       "      <th>0</th>\n",
       "      <td>4KDxYlnGZEiS60pAnfZf4W</td>\n",
       "      <td>Avine Vinny</td>\n",
       "      <td>668913</td>\n",
       "      <td>70</td>\n",
       "    </tr>\n",
       "    <tr>\n",
       "      <th>1</th>\n",
       "      <td>7MiDcPa6UiV3In7lIM71IN</td>\n",
       "      <td>Gusttavo Lima</td>\n",
       "      <td>15101676</td>\n",
       "      <td>84</td>\n",
       "    </tr>\n",
       "    <tr>\n",
       "      <th>2</th>\n",
       "      <td>2MUXvv3lFulPYMUCtNrEBu</td>\n",
       "      <td>DJ Patrick Muniz</td>\n",
       "      <td>13640</td>\n",
       "      <td>66</td>\n",
       "    </tr>\n",
       "    <tr>\n",
       "      <th>3</th>\n",
       "      <td>0DjQFfVxBipTFTXRCwImMP</td>\n",
       "      <td>Mc Anjim</td>\n",
       "      <td>301178</td>\n",
       "      <td>68</td>\n",
       "    </tr>\n",
       "  </tbody>\n",
       "</table>\n",
       "</div>"
      ],
      "text/plain": [
       "                       ID              Nome  Seguidores  Popularidade\n",
       "0  4KDxYlnGZEiS60pAnfZf4W       Avine Vinny      668913            70\n",
       "1  7MiDcPa6UiV3In7lIM71IN     Gusttavo Lima    15101676            84\n",
       "2  2MUXvv3lFulPYMUCtNrEBu  DJ Patrick Muniz       13640            66\n",
       "3  0DjQFfVxBipTFTXRCwImMP          Mc Anjim      301178            68"
      ]
     },
     "execution_count": 11,
     "metadata": {},
     "output_type": "execute_result"
    }
   ],
   "source": [
    "## Artist Table\n",
    "df_table_artists = df_Charts_Songs[['Artist_id', 'Artist_name', 'Artist_followers', \n",
    "                                    'Artist_popularity']].drop_duplicates(\"Artist_id\").reset_index(drop = True)\n",
    "\n",
    "df_table_artists.rename(columns={\"Artist_id\": \"ID\",\n",
    "                               \"Artist_name\": \"Nome\",\n",
    "                               \"Artist_followers\": \"Seguidores\",\n",
    "                               \"Artist_popularity\": \"Popularidade\"}, inplace= True)\n",
    "df_table_artists.head(4)"
   ]
  },
  {
   "cell_type": "code",
   "execution_count": 12,
   "id": "c8edc31e",
   "metadata": {},
   "outputs": [
    {
     "data": {
      "text/html": [
       "<div>\n",
       "<style scoped>\n",
       "    .dataframe tbody tr th:only-of-type {\n",
       "        vertical-align: middle;\n",
       "    }\n",
       "\n",
       "    .dataframe tbody tr th {\n",
       "        vertical-align: top;\n",
       "    }\n",
       "\n",
       "    .dataframe thead th {\n",
       "        text-align: right;\n",
       "    }\n",
       "</style>\n",
       "<table border=\"1\" class=\"dataframe\">\n",
       "  <thead>\n",
       "    <tr style=\"text-align: right;\">\n",
       "      <th></th>\n",
       "      <th>ID_Artista</th>\n",
       "      <th>Imagem</th>\n",
       "    </tr>\n",
       "  </thead>\n",
       "  <tbody>\n",
       "    <tr>\n",
       "      <th>0</th>\n",
       "      <td>4KDxYlnGZEiS60pAnfZf4W</td>\n",
       "      <td>https://i.scdn.co/image/ab6761610000e5eb8ed3b3...</td>\n",
       "    </tr>\n",
       "    <tr>\n",
       "      <th>1</th>\n",
       "      <td>4KDxYlnGZEiS60pAnfZf4W</td>\n",
       "      <td>https://e-cdns-images.dzcdn.net/images/artist/...</td>\n",
       "    </tr>\n",
       "    <tr>\n",
       "      <th>2</th>\n",
       "      <td>7MiDcPa6UiV3In7lIM71IN</td>\n",
       "      <td>https://i.scdn.co/image/ab6761610000e5eb8ed3b3...</td>\n",
       "    </tr>\n",
       "    <tr>\n",
       "      <th>3</th>\n",
       "      <td>7MiDcPa6UiV3In7lIM71IN</td>\n",
       "      <td>https://e-cdns-images.dzcdn.net/images/artist/...</td>\n",
       "    </tr>\n",
       "  </tbody>\n",
       "</table>\n",
       "</div>"
      ],
      "text/plain": [
       "               ID_Artista                                             Imagem\n",
       "0  4KDxYlnGZEiS60pAnfZf4W  https://i.scdn.co/image/ab6761610000e5eb8ed3b3...\n",
       "1  4KDxYlnGZEiS60pAnfZf4W  https://e-cdns-images.dzcdn.net/images/artist/...\n",
       "2  7MiDcPa6UiV3In7lIM71IN  https://i.scdn.co/image/ab6761610000e5eb8ed3b3...\n",
       "3  7MiDcPa6UiV3In7lIM71IN  https://e-cdns-images.dzcdn.net/images/artist/..."
      ]
     },
     "execution_count": 12,
     "metadata": {},
     "output_type": "execute_result"
    }
   ],
   "source": [
    "## Artist Images\n",
    "\n",
    "artist_images = []\n",
    "df_artistis_images = df_Charts_Songs[['Artist_id', 'Artist_images']].drop_duplicates().reset_index(drop = True)\n",
    "\n",
    "for i in range(len(df_artistis_images)):\n",
    "    \n",
    "    list_images = df_Charts_Songs[\"Artist_images\"][i].replace(\"(\", \"\").replace(\")\", \"\").replace(\"'\", \"\").split(\", \")\n",
    "    \n",
    "    \n",
    "    for image in list_images:\n",
    "        artist_images.append((df_artistis_images[\"Artist_id\"][i], image))\n",
    "        \n",
    "df_table_artist_images = pd.DataFrame(artist_images, columns=['Artist_id', 'Image'])\n",
    "df_table_artist_images.rename(columns={\"Artist_id\": \"ID_Artista\",\n",
    "                                    \"Image\": \"Imagem\",}, inplace= True)\n",
    "df_table_artist_images.head(4)"
   ]
  },
  {
   "cell_type": "code",
   "execution_count": 13,
   "id": "87624e23",
   "metadata": {},
   "outputs": [
    {
     "data": {
      "text/html": [
       "<div>\n",
       "<style scoped>\n",
       "    .dataframe tbody tr th:only-of-type {\n",
       "        vertical-align: middle;\n",
       "    }\n",
       "\n",
       "    .dataframe tbody tr th {\n",
       "        vertical-align: top;\n",
       "    }\n",
       "\n",
       "    .dataframe thead th {\n",
       "        text-align: right;\n",
       "    }\n",
       "</style>\n",
       "<table border=\"1\" class=\"dataframe\">\n",
       "  <thead>\n",
       "    <tr style=\"text-align: right;\">\n",
       "      <th></th>\n",
       "      <th>ID_Genero</th>\n",
       "      <th>Genero</th>\n",
       "    </tr>\n",
       "  </thead>\n",
       "  <tbody>\n",
       "    <tr>\n",
       "      <th>0</th>\n",
       "      <td>arrocha</td>\n",
       "      <td>Arrocha</td>\n",
       "    </tr>\n",
       "    <tr>\n",
       "      <th>1</th>\n",
       "      <td>forro</td>\n",
       "      <td>Forro</td>\n",
       "    </tr>\n",
       "    <tr>\n",
       "      <th>2</th>\n",
       "      <td>sertanejo_pop</td>\n",
       "      <td>Sertanejo Pop</td>\n",
       "    </tr>\n",
       "    <tr>\n",
       "      <th>3</th>\n",
       "      <td>sertanejo</td>\n",
       "      <td>Sertanejo</td>\n",
       "    </tr>\n",
       "  </tbody>\n",
       "</table>\n",
       "</div>"
      ],
      "text/plain": [
       "       ID_Genero         Genero\n",
       "0        arrocha        Arrocha\n",
       "1          forro          Forro\n",
       "2  sertanejo_pop  Sertanejo Pop\n",
       "3      sertanejo      Sertanejo"
      ]
     },
     "execution_count": 13,
     "metadata": {},
     "output_type": "execute_result"
    }
   ],
   "source": [
    "## Genders\n",
    "\n",
    "artist_genders = []\n",
    "df_artistis_genders = df_Charts_Songs[['Artist_id', 'Artist_genres']].drop_duplicates().reset_index(drop = True)\n",
    "\n",
    "for i in range(len(df_artistis_genders)):\n",
    "    \n",
    "    list_genders = df_Charts_Songs[\"Artist_genres\"][i].replace(\"[\", \"\").replace(\"]\", \"\").replace(\"'\", \"\").split(\", \")\n",
    "    \n",
    "    \n",
    "    for gender in list_genders:\n",
    "        artist_genders.append((gender.replace(\" \",\"_\"), gender.title()))\n",
    "        \n",
    "df_table_genders = pd.DataFrame(artist_genders, columns=['Gender_id', 'Gender'])\n",
    "df_table_genders.rename(columns={\"Gender_id\": \"ID_Genero\",\n",
    "                                    \"Gender\": \"Genero\",}, inplace= True)\n",
    "\n",
    "df_table_genders = df_table_genders.drop_duplicates().reset_index(drop = True)\n",
    "df_table_genders.head(4)"
   ]
  },
  {
   "cell_type": "code",
   "execution_count": 14,
   "id": "9d62654f",
   "metadata": {
    "run_control": {
     "marked": true
    }
   },
   "outputs": [
    {
     "data": {
      "text/html": [
       "<div>\n",
       "<style scoped>\n",
       "    .dataframe tbody tr th:only-of-type {\n",
       "        vertical-align: middle;\n",
       "    }\n",
       "\n",
       "    .dataframe tbody tr th {\n",
       "        vertical-align: top;\n",
       "    }\n",
       "\n",
       "    .dataframe thead th {\n",
       "        text-align: right;\n",
       "    }\n",
       "</style>\n",
       "<table border=\"1\" class=\"dataframe\">\n",
       "  <thead>\n",
       "    <tr style=\"text-align: right;\">\n",
       "      <th></th>\n",
       "      <th>ID_Artista</th>\n",
       "      <th>Gender_id</th>\n",
       "    </tr>\n",
       "  </thead>\n",
       "  <tbody>\n",
       "    <tr>\n",
       "      <th>0</th>\n",
       "      <td>4KDxYlnGZEiS60pAnfZf4W</td>\n",
       "      <td>arrocha</td>\n",
       "    </tr>\n",
       "    <tr>\n",
       "      <th>1</th>\n",
       "      <td>4KDxYlnGZEiS60pAnfZf4W</td>\n",
       "      <td>forro</td>\n",
       "    </tr>\n",
       "    <tr>\n",
       "      <th>2</th>\n",
       "      <td>4KDxYlnGZEiS60pAnfZf4W</td>\n",
       "      <td>sertanejo_pop</td>\n",
       "    </tr>\n",
       "    <tr>\n",
       "      <th>3</th>\n",
       "      <td>7MiDcPa6UiV3In7lIM71IN</td>\n",
       "      <td>arrocha</td>\n",
       "    </tr>\n",
       "  </tbody>\n",
       "</table>\n",
       "</div>"
      ],
      "text/plain": [
       "               ID_Artista      Gender_id\n",
       "0  4KDxYlnGZEiS60pAnfZf4W        arrocha\n",
       "1  4KDxYlnGZEiS60pAnfZf4W          forro\n",
       "2  4KDxYlnGZEiS60pAnfZf4W  sertanejo_pop\n",
       "3  7MiDcPa6UiV3In7lIM71IN        arrocha"
      ]
     },
     "execution_count": 14,
     "metadata": {},
     "output_type": "execute_result"
    }
   ],
   "source": [
    "## Artist Genders\n",
    "\n",
    "artist_genders = []\n",
    "df_artistis_genders = df_Charts_Songs[['Artist_id', 'Artist_genres']].drop_duplicates().reset_index(drop = True)\n",
    "\n",
    "for i in range(len(df_artistis_genders)):\n",
    "    \n",
    "    list_genders = df_Charts_Songs[\"Artist_genres\"][i].replace(\"[\", \"\").replace(\"]\", \"\").replace(\"'\", \"\").split(\", \")\n",
    "    \n",
    "    \n",
    "    for gender in list_genders:\n",
    "        artist_genders.append((df_artistis_genders[\"Artist_id\"][i], gender.replace(\" \",\"_\")))\n",
    "        \n",
    "df_table_artist_genders = pd.DataFrame(artist_genders, columns=['Artist_id', 'Gender_id']).drop_duplicates().reset_index(drop = True)\n",
    "df_table_artist_genders.rename(columns={\"Artist_id\": \"ID_Artista\",\n",
    "                                    \"Gender\": \"Genero\",}, inplace= True)\n",
    "df_table_artist_genders.head(4)"
   ]
  },
  {
   "cell_type": "markdown",
   "id": "e84670d7",
   "metadata": {},
   "source": [
    "## Creating DataBase"
   ]
  },
  {
   "cell_type": "code",
   "execution_count": 15,
   "id": "e3cf26ec",
   "metadata": {},
   "outputs": [],
   "source": [
    "# ## Creating DataBase\n",
    "conn = pymysql.connect(\n",
    "                host=config.DATABASE_HOST,\n",
    "                port=config.DATABASE_PORT,\n",
    "                user=config.DATABASE_USER,\n",
    "                password=config.DATABASE_PASSWORD,\n",
    "                database=config.DATABASE_NAME,\n",
    "                charset='utf8mb4',\n",
    "                cursorclass=pymysql.cursors.DictCursor\n",
    "            )"
   ]
  },
  {
   "cell_type": "code",
   "execution_count": 16,
   "id": "f3f244af",
   "metadata": {},
   "outputs": [],
   "source": [
    "database = config.DATABASE_NAME"
   ]
  },
  {
   "cell_type": "code",
   "execution_count": 17,
   "id": "b8cca73b",
   "metadata": {},
   "outputs": [],
   "source": [
    "cursor = conn.cursor()"
   ]
  },
  {
   "cell_type": "markdown",
   "id": "92d81153",
   "metadata": {},
   "source": [
    "## Creating Tables"
   ]
  },
  {
   "cell_type": "code",
   "execution_count": 18,
   "id": "959bb40b",
   "metadata": {},
   "outputs": [
    {
     "name": "stdout",
     "output_type": "stream",
     "text": [
      "Base de dados 'Ranking_Cidades_Brasileiras_teste2' criada com sucesso.\n"
     ]
    }
   ],
   "source": [
    "cursor.execute(\"DROP DATABASE IF EXISTS {database};\".format(database = database))\n",
    "cursor.execute(\"CREATE DATABASE {database};\".format(database = database))\n",
    "print(\"Base de dados '{}' criada com sucesso.\".format(database))\n",
    "cursor.execute(\"USE {database};\".format(database = database))"
   ]
  },
  {
   "cell_type": "markdown",
   "id": "0e28560f",
   "metadata": {},
   "source": [
    "#### Ranking Table"
   ]
  },
  {
   "cell_type": "code",
   "execution_count": 19,
   "id": "13de1635",
   "metadata": {},
   "outputs": [
    {
     "name": "stdout",
     "output_type": "stream",
     "text": [
      "Tabela 'Ranking' criada com sucesso.          \n"
     ]
    }
   ],
   "source": [
    "table = \"Ranking\"\n",
    "print(\"Criando a tabela '{}'...                 \".format(table), flush=True, end=\"\\r\")\n",
    "\n",
    "cursor.execute('DROP TABLE IF EXISTS {table};'.format(table = table))\n",
    "\n",
    "cursor.execute(\"\"\"CREATE TABLE {table}(ID varchar(255) NOT NULL,\n",
    "                                        Codigo_Cidade int NOT NULL,\n",
    "                                        Tipo varchar(255) NOT NULL,\n",
    "                                        PRIMARY KEY (ID, Codigo_Cidade))\"\"\".format(table = table))\n",
    "for i,row in df_table_chart.iterrows():\n",
    "\n",
    "    sql = \"INSERT INTO {database}.{table} VALUES (%s,%s,%s)\".format(database = database,table = table)\n",
    "    cursor.execute(sql, tuple(row))\n",
    "    conn.commit()\n",
    "print(\"Tabela '{}' criada com sucesso.\".format(table))\n",
    "    "
   ]
  },
  {
   "cell_type": "markdown",
   "id": "1de0d4b6",
   "metadata": {},
   "source": [
    "#### Artist Table"
   ]
  },
  {
   "cell_type": "code",
   "execution_count": 20,
   "id": "8d50bfb5",
   "metadata": {},
   "outputs": [
    {
     "name": "stdout",
     "output_type": "stream",
     "text": [
      "Tabela 'Artista' criada com sucesso.          \n"
     ]
    }
   ],
   "source": [
    "table = \"Artista\"\n",
    "print(\"Criando a tabela '{}'...                 \".format(table), flush=True, end=\"\\r\")\n",
    "\n",
    "cursor.execute('DROP TABLE IF EXISTS {table};'.format(table = table))\n",
    "\n",
    "cursor.execute(\"\"\"CREATE TABLE {table}( ID VARCHAR(255) NOT NULL PRIMARY KEY,\n",
    "                                        Nome VARCHAR(255) NOT NULL,\n",
    "                                        Seguidores INT NOT NULL,\n",
    "                                        Popularidade INT NOT NULL)\"\"\".format(table = table))\n",
    "for i,row in df_table_artists.iterrows():\n",
    "\n",
    "    sql = \"INSERT INTO {database}.{table} VALUES (%s,%s,%s,%s)\".format(database = database,table = table)\n",
    "    cursor.execute(sql, tuple(row))\n",
    "    conn.commit()\n",
    "print(\"Tabela '{}' criada com sucesso.\".format(table))"
   ]
  },
  {
   "cell_type": "markdown",
   "id": "6d648a99",
   "metadata": {},
   "source": [
    "#### Album Table"
   ]
  },
  {
   "cell_type": "code",
   "execution_count": 21,
   "id": "9e489eae",
   "metadata": {
    "run_control": {
     "marked": false
    }
   },
   "outputs": [
    {
     "name": "stdout",
     "output_type": "stream",
     "text": [
      "Tabela 'Album' criada com sucesso.                 \n"
     ]
    }
   ],
   "source": [
    "table = \"Album\"\n",
    "print(\"Criando a tabela '{}'...                 \".format(table), flush=True, end=\"\\r\")\n",
    "\n",
    "cursor.execute('DROP TABLE IF EXISTS {table};'.format(table = table))\n",
    "\n",
    "cursor.execute(\"\"\"CREATE TABLE {table}( ID VARCHAR(255) NOT NULL PRIMARY KEY,\n",
    "                                        Nome VARCHAR(255) NOT NULL,   \n",
    "                                        Data DATE,\n",
    "                                        Imagem_capa MEDIUMBLOB NOT NULL)\"\"\".format(table = table))\n",
    "\n",
    "remain = len(df_table_albums) - 1\n",
    "for i,row in df_table_albums.iterrows():\n",
    "    \n",
    "    url = row[3]    \n",
    "    img_bytes = requests.get(url).content\n",
    "    data = row[0:3].tolist()\n",
    "    data.append(img_bytes)\n",
    "         \n",
    "    try: \n",
    "        int(row[2])\n",
    "        sql = \"INSERT INTO {database}.{table} VALUES (%s,%s,NULL,%s)\".format(database = database,table = table)\n",
    "        data.remove(row[2])   \n",
    "        cursor.execute(sql, tuple(data))\n",
    "        \n",
    "    except :\n",
    "        sql = \"INSERT INTO {database}.{table} VALUES (%s,%s,%s,%s)\".format(database = database,table = table)\n",
    "        cursor.execute(sql, tuple(data))    \n",
    "    \n",
    "    print(\"Criando a tabela {}. Linhas  {} restantes     \".format(table, remain), end = \"\\r\", flush = True)\n",
    "    remain -= 1\n",
    "        \n",
    "    conn.commit()\n",
    "print(\"Tabela '{}' criada com sucesso.                \".format(table))"
   ]
  },
  {
   "cell_type": "markdown",
   "id": "5b21f3f3",
   "metadata": {},
   "source": [
    "#### Song Table"
   ]
  },
  {
   "cell_type": "code",
   "execution_count": 22,
   "id": "a47567fe",
   "metadata": {},
   "outputs": [
    {
     "name": "stdout",
     "output_type": "stream",
     "text": [
      "Tabela 'Musica' criada com sucesso.          \n"
     ]
    }
   ],
   "source": [
    "df_table_songs.Explicita = df_table_songs.Explicita.astype(int)\n",
    "\n",
    "table = \"Musica\"\n",
    "print(\"Criando a tabela '{}'...                 \".format(table), flush=True, end=\"\\r\")\n",
    "\n",
    "cursor.execute('DROP TABLE IF EXISTS {table};'.format(table = table))\n",
    "\n",
    "cursor.execute(\"\"\"CREATE TABLE {table}( ID VARCHAR(255) NOT NULL PRIMARY KEY,\n",
    "                                        ID_Album VARCHAR(255) NOT NULL,\n",
    "                                        Nome VARCHAR(255) NOT NULL,\n",
    "                                        Faixa INT NOT NULL,\n",
    "                                        Explicita TINYINT NOT NULL,\n",
    "                                        Popularidade INT NOT NULL,\n",
    "                                        Danceabilidade FLOAT(3) NOT NULL,\n",
    "                                        Energia FLOAT(3) NOT NULL,\n",
    "                                        Volume FLOAT(3) NOT NULL,\n",
    "                                        Valencia FLOAT(3) NOT NULL,\n",
    "                                        FOREIGN KEY (ID_Album) REFERENCES Album(ID))\"\"\".format(table = table))\n",
    "for i,row in df_table_songs.iterrows():\n",
    "\n",
    "    sql = \"INSERT INTO {database}.{table} VALUES (%s,%s,%s,%s,%s,%s,%s,%s,%s,%s)\".format(database = database,table = table)\n",
    "    cursor.execute(sql, tuple(row))\n",
    "    conn.commit()\n",
    "print(\"Tabela '{}' criada com sucesso.\".format(table))"
   ]
  },
  {
   "cell_type": "markdown",
   "id": "841bc9ae",
   "metadata": {},
   "source": [
    "#### City Table"
   ]
  },
  {
   "cell_type": "code",
   "execution_count": 23,
   "id": "9f373cb6",
   "metadata": {},
   "outputs": [
    {
     "name": "stdout",
     "output_type": "stream",
     "text": [
      "Tabela 'cidade' criada com sucesso.          \n"
     ]
    }
   ],
   "source": [
    "table = \"cidade\"\n",
    "print(\"Criando a tabela '{}'...                 \".format(table), flush=True, end=\"\\r\")\n",
    "\n",
    "cursor.execute('DROP TABLE IF EXISTS {table};'.format(table = table))\n",
    "\n",
    "cursor.execute(\"\"\"CREATE TABLE {table}( ID INT NOT NULL,\n",
    "                                        Nome VARCHAR(255) NOT NULL,\n",
    "                                        Estado VARCHAR(255) NOT NULL,\n",
    "                                        PRIMARY KEY (ID, Estado))\"\"\".format(table = table))\n",
    "for i,row in df_table_cities.iterrows():\n",
    "\n",
    "    sql = \"INSERT INTO {database}.{table} VALUES (%s,%s,%s)\".format(database = database,table = table)\n",
    "    cursor.execute(sql, tuple(row))\n",
    "    conn.commit()\n",
    "print(\"Tabela '{}' criada com sucesso.\".format(table))"
   ]
  },
  {
   "cell_type": "markdown",
   "id": "2029c74c",
   "metadata": {},
   "source": [
    "#### State Table"
   ]
  },
  {
   "cell_type": "code",
   "execution_count": 24,
   "id": "5bbfd439",
   "metadata": {},
   "outputs": [
    {
     "name": "stdout",
     "output_type": "stream",
     "text": [
      "Tabela 'Estado' criada com sucesso.          \n"
     ]
    }
   ],
   "source": [
    "table = \"Estado\"\n",
    "print(\"Criando a tabela '{}'...                 \".format(table), flush=True, end=\"\\r\")\n",
    "\n",
    "cursor.execute('DROP TABLE IF EXISTS {table};'.format(table = table))\n",
    "\n",
    "cursor.execute(\"\"\"CREATE TABLE {table}( Nome VARCHAR(255) NOT NULL PRIMARY KEY,\n",
    "                                        Regiao VARCHAR(255) NOT NULL)\"\"\".format(table = table))\n",
    "for i,row in df_table_states.iterrows():\n",
    "\n",
    "    sql = \"INSERT INTO {database}.{table} VALUES (%s,%s)\".format(database = database,table = table)\n",
    "    cursor.execute(sql, tuple(row))\n",
    "    conn.commit()    \n",
    "    \n",
    "    \n",
    "print(\"Tabela '{}' criada com sucesso.\".format(table))"
   ]
  },
  {
   "cell_type": "markdown",
   "id": "dc81b515",
   "metadata": {},
   "source": [
    "#### Images Table "
   ]
  },
  {
   "cell_type": "code",
   "execution_count": 25,
   "id": "637b3de2",
   "metadata": {},
   "outputs": [
    {
     "name": "stdout",
     "output_type": "stream",
     "text": [
      "Tabela 'Artista_Imagens' criada com sucesso.          \n"
     ]
    }
   ],
   "source": [
    "table = \"Artista_Imagens\"\n",
    "print(\"Criando a tabela '{}'...                 \".format(table), flush=True, end=\"\\r\")\n",
    "\n",
    "cursor.execute('DROP TABLE IF EXISTS {table};'.format(table = table))\n",
    "\n",
    "cursor.execute(\"\"\"CREATE TABLE {table}( ID_Artista VARCHAR(255) NOT NULL,\n",
    "                                        Imagem VARCHAR(255) NOT NULL,\n",
    "                                        FOREIGN KEY (ID_Artista) REFERENCES Artista(ID),\n",
    "                                        PRIMARY KEY (ID_Artista, Imagem))\"\"\".format(table = table))\n",
    "\n",
    "remain = len(df_table_albums) - 1\n",
    "for i,row in df_table_artist_images.iterrows():\n",
    "    \n",
    "#     url = row[1]    \n",
    "#     img_bytes = requests.get(url).content\n",
    "#     data = [row[0]]\n",
    "#     data.append(img_bytes)\n",
    "\n",
    "    sql = \"INSERT INTO {database}.{table} VALUES (%s,%s)\".format(database = database,table = table)\n",
    "    cursor.execute(sql, tuple(row))\n",
    "    conn.commit()\n",
    "    remain -= 1\n",
    "    \n",
    "    \n",
    "print(\"Tabela '{}' criada com sucesso.\".format(table))"
   ]
  },
  {
   "cell_type": "markdown",
   "id": "545560e0",
   "metadata": {},
   "source": [
    "#### Gender"
   ]
  },
  {
   "cell_type": "code",
   "execution_count": 26,
   "id": "e867bd22",
   "metadata": {},
   "outputs": [
    {
     "name": "stdout",
     "output_type": "stream",
     "text": [
      "Tabela 'Genero' criada com sucesso.          \n"
     ]
    }
   ],
   "source": [
    "table = \"Genero\"\n",
    "print(\"Criando a tabela '{}'...                 \".format(table), flush=True, end=\"\\r\")\n",
    "\n",
    "cursor.execute('DROP TABLE IF EXISTS {table};'.format(table = table))\n",
    "\n",
    "cursor.execute(\"\"\"CREATE TABLE {table}( ID VARCHAR(255) PRIMARY KEY,\n",
    "                                        Genero VARCHAR(255) NOT NULL)\"\"\".format(table = table))\n",
    "\n",
    "for i,row in df_table_genders.iterrows():\n",
    "\n",
    "    sql = \"INSERT INTO {database}.{table} VALUES (%s,%s)\".format(database = database,table = table)\n",
    "    cursor.execute(sql, tuple(row))\n",
    "    conn.commit()\n",
    "print(\"Tabela '{}' criada com sucesso.\".format(table))\n",
    "    "
   ]
  },
  {
   "cell_type": "markdown",
   "id": "f04dcaef",
   "metadata": {},
   "source": [
    "#### Artists Gender Table"
   ]
  },
  {
   "cell_type": "code",
   "execution_count": 27,
   "id": "ce911560",
   "metadata": {},
   "outputs": [],
   "source": [
    "df_table_songs.Explicita = df_table_songs.Explicita.astype(int)\n",
    "\n",
    "table = \"Artista_Generos\"\n",
    "\n",
    "cursor.execute('DROP TABLE IF EXISTS {table};'.format(table = table))\n",
    "\n",
    "cursor.execute(\"\"\"CREATE TABLE {table}( ID_Artista VARCHAR(255) NOT NULL,\n",
    "                                        ID_Genero VARCHAR(255),\n",
    "                                        FOREIGN KEY (ID_Artista) REFERENCES Artista(ID),\n",
    "                                        FOREIGN KEY (ID_Genero) REFERENCES Genero(ID),\n",
    "                                        PRIMARY KEY (ID_Artista, ID_Genero))\"\"\".format(table = table))\n",
    "\n",
    "for i,row in df_table_artist_genders.iterrows():\n",
    "\n",
    "    sql = \"INSERT INTO {database}.{table} VALUES (%s,%s)\".format(database = database,table = table)\n",
    "    cursor.execute(sql, tuple(row))\n",
    "    conn.commit()"
   ]
  },
  {
   "cell_type": "markdown",
   "id": "1eb1874a",
   "metadata": {},
   "source": [
    "#### Artist's Albums"
   ]
  },
  {
   "cell_type": "code",
   "execution_count": 28,
   "id": "cece48af",
   "metadata": {},
   "outputs": [
    {
     "name": "stdout",
     "output_type": "stream",
     "text": [
      "Tabela 'Artista_Albums' criada com sucesso.          \n"
     ]
    }
   ],
   "source": [
    "table = \"Artista_Albums\"\n",
    "print(\"Criando a tabela '{}'...                 \".format(table), flush=True, end=\"\\r\")\n",
    "\n",
    "cursor.execute('DROP TABLE IF EXISTS {table};'.format(table = table))\n",
    "\n",
    "cursor.execute(\"\"\"CREATE TABLE {table}( ID_Artista VARCHAR(255) NOT NULL,\n",
    "                                        ID_Album VARCHAR(255) NOT NULL,\n",
    "                                        FOREIGN KEY (ID_Artista) REFERENCES Artista(ID),\n",
    "                                        FOREIGN KEY (ID_Album) REFERENCES Album(ID),\n",
    "                                        PRIMARY KEY (ID_Artista, ID_Album))\"\"\".format(table = table))\n",
    "\n",
    "for i,row in df_table_artist_albums.iterrows():\n",
    "\n",
    "    sql = \"INSERT INTO {database}.{table} VALUES (%s,%s)\".format(database = database,table = table)\n",
    "    cursor.execute(sql, tuple(row))\n",
    "    conn.commit()\n",
    "print(\"Tabela '{}' criada com sucesso.\".format(table))"
   ]
  },
  {
   "cell_type": "markdown",
   "id": "eb524b22",
   "metadata": {},
   "source": [
    "#### Ranking's Songs"
   ]
  },
  {
   "cell_type": "code",
   "execution_count": 29,
   "id": "a915e835",
   "metadata": {},
   "outputs": [
    {
     "name": "stdout",
     "output_type": "stream",
     "text": [
      "Tabela 'Ranking_Musicas' criada com sucesso.                          \n",
      "Base de dados 'Ranking_Cidades_Brasileiras_teste2' alimentada com sucesso.\n"
     ]
    }
   ],
   "source": [
    "table = \"Ranking_Musicas\"\n",
    "print(\"Criando a tabela '{}'...                 \".format(table), flush=True, end=\"\\r\")\n",
    "\n",
    "cursor.execute('DROP TABLE IF EXISTS {table};'.format(table = table))\n",
    "\n",
    "cursor.execute(\"\"\"CREATE TABLE {table}( ID_Ranking VARCHAR(255) NOT NULL,\n",
    "                                        Data DATE NOT NULL,\n",
    "                                        ID_Musica VARCHAR(255) NOT NULL,                                        \n",
    "                                        Posicao INT NOT NULL,\n",
    "                                        FOREIGN KEY (ID_Ranking) REFERENCES Ranking(ID),\n",
    "                                        FOREIGN KEY (ID_Musica) REFERENCES Musica(ID))\"\"\".format(table = table))\n",
    "\n",
    "remain = len(df_table_chart_songs) - 1\n",
    "\n",
    "\n",
    "for i,row in df_table_chart_songs.iterrows():\n",
    "    \n",
    "    \n",
    "\n",
    "    sql = \"INSERT INTO {database}.{table} VALUES (%s,%s,%s,%s)\".format(database = database,table = table)\n",
    "    cursor.execute(sql, tuple(row))\n",
    "    conn.commit() \n",
    "\n",
    "    \n",
    "    print(\"Criando a tabela {}. Linhas  {} restantes     \".format(table, remain), end = \"\\r\", flush = True)    \n",
    "    remain -= 1 \n",
    "    \n",
    "print(\"Tabela '{}' criada com sucesso.                          \".format(table))\n",
    "print(\"Base de dados '{}' alimentada com sucesso.\".format(database))"
   ]
  }
 ],
 "metadata": {
  "kernelspec": {
   "display_name": "Python 3",
   "language": "python",
   "name": "python3"
  },
  "language_info": {
   "codemirror_mode": {
    "name": "ipython",
    "version": 3
   },
   "file_extension": ".py",
   "mimetype": "text/x-python",
   "name": "python",
   "nbconvert_exporter": "python",
   "pygments_lexer": "ipython3",
   "version": "3.8.8"
  }
 },
 "nbformat": 4,
 "nbformat_minor": 5
}
